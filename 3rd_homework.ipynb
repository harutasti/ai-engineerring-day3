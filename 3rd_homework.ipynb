{
  "nbformat": 4,
  "nbformat_minor": 0,
  "metadata": {
    "colab": {
      "provenance": [],
      "machine_shape": "hm",
      "gpuType": "L4"
    },
    "kernelspec": {
      "name": "python3",
      "display_name": "Python 3"
    },
    "language_info": {
      "name": "python"
    },
    "accelerator": "GPU",
    "widgets": {
      "application/vnd.jupyter.widget-state+json": {
        "876c33077f144580acde2e02590be94b": {
          "model_module": "@jupyter-widgets/controls",
          "model_name": "VBoxModel",
          "model_module_version": "1.5.0",
          "state": {
            "_dom_classes": [],
            "_model_module": "@jupyter-widgets/controls",
            "_model_module_version": "1.5.0",
            "_model_name": "VBoxModel",
            "_view_count": null,
            "_view_module": "@jupyter-widgets/controls",
            "_view_module_version": "1.5.0",
            "_view_name": "VBoxView",
            "box_style": "",
            "children": [],
            "layout": "IPY_MODEL_828737e90f594366b4af33c5384e321f"
          }
        },
        "15979dcda8e241fe9398735d5b0951b3": {
          "model_module": "@jupyter-widgets/controls",
          "model_name": "HTMLModel",
          "model_module_version": "1.5.0",
          "state": {
            "_dom_classes": [],
            "_model_module": "@jupyter-widgets/controls",
            "_model_module_version": "1.5.0",
            "_model_name": "HTMLModel",
            "_view_count": null,
            "_view_module": "@jupyter-widgets/controls",
            "_view_module_version": "1.5.0",
            "_view_name": "HTMLView",
            "description": "",
            "description_tooltip": null,
            "layout": "IPY_MODEL_02fa18efb91b43b5a27de21ea296fc77",
            "placeholder": "​",
            "style": "IPY_MODEL_fbd9f99980b24dc6a26111c2dc8a4b36",
            "value": "<center> <img\nsrc=https://huggingface.co/front/assets/huggingface_logo-noborder.svg\nalt='Hugging Face'> <br> Copy a token from <a\nhref=\"https://huggingface.co/settings/tokens\" target=\"_blank\">your Hugging Face\ntokens page</a> and paste it below. <br> Immediately click login after copying\nyour token or it might be stored in plain text in this notebook file. </center>"
          }
        },
        "eb603fb27ef6489da6fd3039da8abd7d": {
          "model_module": "@jupyter-widgets/controls",
          "model_name": "PasswordModel",
          "model_module_version": "1.5.0",
          "state": {
            "_dom_classes": [],
            "_model_module": "@jupyter-widgets/controls",
            "_model_module_version": "1.5.0",
            "_model_name": "PasswordModel",
            "_view_count": null,
            "_view_module": "@jupyter-widgets/controls",
            "_view_module_version": "1.5.0",
            "_view_name": "PasswordView",
            "continuous_update": true,
            "description": "Token:",
            "description_tooltip": null,
            "disabled": false,
            "layout": "IPY_MODEL_8f917b76c06943b8bcb969feea2f6006",
            "placeholder": "​",
            "style": "IPY_MODEL_376834d80560448f8d15e963acfc6a62",
            "value": ""
          }
        },
        "e4e85644866248e7920b462fa4a65536": {
          "model_module": "@jupyter-widgets/controls",
          "model_name": "CheckboxModel",
          "model_module_version": "1.5.0",
          "state": {
            "_dom_classes": [],
            "_model_module": "@jupyter-widgets/controls",
            "_model_module_version": "1.5.0",
            "_model_name": "CheckboxModel",
            "_view_count": null,
            "_view_module": "@jupyter-widgets/controls",
            "_view_module_version": "1.5.0",
            "_view_name": "CheckboxView",
            "description": "Add token as git credential?",
            "description_tooltip": null,
            "disabled": false,
            "indent": true,
            "layout": "IPY_MODEL_ce79f05e94a6456da4207d43289d4d0c",
            "style": "IPY_MODEL_e6cfb1090065490baa7bb5252c1a6ab8",
            "value": true
          }
        },
        "9f27e31b14a748ed88fb44201010995b": {
          "model_module": "@jupyter-widgets/controls",
          "model_name": "ButtonModel",
          "model_module_version": "1.5.0",
          "state": {
            "_dom_classes": [],
            "_model_module": "@jupyter-widgets/controls",
            "_model_module_version": "1.5.0",
            "_model_name": "ButtonModel",
            "_view_count": null,
            "_view_module": "@jupyter-widgets/controls",
            "_view_module_version": "1.5.0",
            "_view_name": "ButtonView",
            "button_style": "",
            "description": "Login",
            "disabled": false,
            "icon": "",
            "layout": "IPY_MODEL_796a5721348b460eba4031ed3068c327",
            "style": "IPY_MODEL_e321d4d87afe4038b15e83e420e3cc44",
            "tooltip": ""
          }
        },
        "344a10ccd42943259c4aeb54a62db7b6": {
          "model_module": "@jupyter-widgets/controls",
          "model_name": "HTMLModel",
          "model_module_version": "1.5.0",
          "state": {
            "_dom_classes": [],
            "_model_module": "@jupyter-widgets/controls",
            "_model_module_version": "1.5.0",
            "_model_name": "HTMLModel",
            "_view_count": null,
            "_view_module": "@jupyter-widgets/controls",
            "_view_module_version": "1.5.0",
            "_view_name": "HTMLView",
            "description": "",
            "description_tooltip": null,
            "layout": "IPY_MODEL_6d269d47237a4fbb909e5b5f0bfed322",
            "placeholder": "​",
            "style": "IPY_MODEL_c39a77dc1cf841c082683ec02a836a08",
            "value": "\n<b>Pro Tip:</b> If you don't already have one, you can create a dedicated\n'notebooks' token with 'write' access, that you can then easily reuse for all\nnotebooks. </center>"
          }
        },
        "828737e90f594366b4af33c5384e321f": {
          "model_module": "@jupyter-widgets/base",
          "model_name": "LayoutModel",
          "model_module_version": "1.2.0",
          "state": {
            "_model_module": "@jupyter-widgets/base",
            "_model_module_version": "1.2.0",
            "_model_name": "LayoutModel",
            "_view_count": null,
            "_view_module": "@jupyter-widgets/base",
            "_view_module_version": "1.2.0",
            "_view_name": "LayoutView",
            "align_content": null,
            "align_items": "center",
            "align_self": null,
            "border": null,
            "bottom": null,
            "display": "flex",
            "flex": null,
            "flex_flow": "column",
            "grid_area": null,
            "grid_auto_columns": null,
            "grid_auto_flow": null,
            "grid_auto_rows": null,
            "grid_column": null,
            "grid_gap": null,
            "grid_row": null,
            "grid_template_areas": null,
            "grid_template_columns": null,
            "grid_template_rows": null,
            "height": null,
            "justify_content": null,
            "justify_items": null,
            "left": null,
            "margin": null,
            "max_height": null,
            "max_width": null,
            "min_height": null,
            "min_width": null,
            "object_fit": null,
            "object_position": null,
            "order": null,
            "overflow": null,
            "overflow_x": null,
            "overflow_y": null,
            "padding": null,
            "right": null,
            "top": null,
            "visibility": null,
            "width": "50%"
          }
        },
        "02fa18efb91b43b5a27de21ea296fc77": {
          "model_module": "@jupyter-widgets/base",
          "model_name": "LayoutModel",
          "model_module_version": "1.2.0",
          "state": {
            "_model_module": "@jupyter-widgets/base",
            "_model_module_version": "1.2.0",
            "_model_name": "LayoutModel",
            "_view_count": null,
            "_view_module": "@jupyter-widgets/base",
            "_view_module_version": "1.2.0",
            "_view_name": "LayoutView",
            "align_content": null,
            "align_items": null,
            "align_self": null,
            "border": null,
            "bottom": null,
            "display": null,
            "flex": null,
            "flex_flow": null,
            "grid_area": null,
            "grid_auto_columns": null,
            "grid_auto_flow": null,
            "grid_auto_rows": null,
            "grid_column": null,
            "grid_gap": null,
            "grid_row": null,
            "grid_template_areas": null,
            "grid_template_columns": null,
            "grid_template_rows": null,
            "height": null,
            "justify_content": null,
            "justify_items": null,
            "left": null,
            "margin": null,
            "max_height": null,
            "max_width": null,
            "min_height": null,
            "min_width": null,
            "object_fit": null,
            "object_position": null,
            "order": null,
            "overflow": null,
            "overflow_x": null,
            "overflow_y": null,
            "padding": null,
            "right": null,
            "top": null,
            "visibility": null,
            "width": null
          }
        },
        "fbd9f99980b24dc6a26111c2dc8a4b36": {
          "model_module": "@jupyter-widgets/controls",
          "model_name": "DescriptionStyleModel",
          "model_module_version": "1.5.0",
          "state": {
            "_model_module": "@jupyter-widgets/controls",
            "_model_module_version": "1.5.0",
            "_model_name": "DescriptionStyleModel",
            "_view_count": null,
            "_view_module": "@jupyter-widgets/base",
            "_view_module_version": "1.2.0",
            "_view_name": "StyleView",
            "description_width": ""
          }
        },
        "8f917b76c06943b8bcb969feea2f6006": {
          "model_module": "@jupyter-widgets/base",
          "model_name": "LayoutModel",
          "model_module_version": "1.2.0",
          "state": {
            "_model_module": "@jupyter-widgets/base",
            "_model_module_version": "1.2.0",
            "_model_name": "LayoutModel",
            "_view_count": null,
            "_view_module": "@jupyter-widgets/base",
            "_view_module_version": "1.2.0",
            "_view_name": "LayoutView",
            "align_content": null,
            "align_items": null,
            "align_self": null,
            "border": null,
            "bottom": null,
            "display": null,
            "flex": null,
            "flex_flow": null,
            "grid_area": null,
            "grid_auto_columns": null,
            "grid_auto_flow": null,
            "grid_auto_rows": null,
            "grid_column": null,
            "grid_gap": null,
            "grid_row": null,
            "grid_template_areas": null,
            "grid_template_columns": null,
            "grid_template_rows": null,
            "height": null,
            "justify_content": null,
            "justify_items": null,
            "left": null,
            "margin": null,
            "max_height": null,
            "max_width": null,
            "min_height": null,
            "min_width": null,
            "object_fit": null,
            "object_position": null,
            "order": null,
            "overflow": null,
            "overflow_x": null,
            "overflow_y": null,
            "padding": null,
            "right": null,
            "top": null,
            "visibility": null,
            "width": null
          }
        },
        "376834d80560448f8d15e963acfc6a62": {
          "model_module": "@jupyter-widgets/controls",
          "model_name": "DescriptionStyleModel",
          "model_module_version": "1.5.0",
          "state": {
            "_model_module": "@jupyter-widgets/controls",
            "_model_module_version": "1.5.0",
            "_model_name": "DescriptionStyleModel",
            "_view_count": null,
            "_view_module": "@jupyter-widgets/base",
            "_view_module_version": "1.2.0",
            "_view_name": "StyleView",
            "description_width": ""
          }
        },
        "ce79f05e94a6456da4207d43289d4d0c": {
          "model_module": "@jupyter-widgets/base",
          "model_name": "LayoutModel",
          "model_module_version": "1.2.0",
          "state": {
            "_model_module": "@jupyter-widgets/base",
            "_model_module_version": "1.2.0",
            "_model_name": "LayoutModel",
            "_view_count": null,
            "_view_module": "@jupyter-widgets/base",
            "_view_module_version": "1.2.0",
            "_view_name": "LayoutView",
            "align_content": null,
            "align_items": null,
            "align_self": null,
            "border": null,
            "bottom": null,
            "display": null,
            "flex": null,
            "flex_flow": null,
            "grid_area": null,
            "grid_auto_columns": null,
            "grid_auto_flow": null,
            "grid_auto_rows": null,
            "grid_column": null,
            "grid_gap": null,
            "grid_row": null,
            "grid_template_areas": null,
            "grid_template_columns": null,
            "grid_template_rows": null,
            "height": null,
            "justify_content": null,
            "justify_items": null,
            "left": null,
            "margin": null,
            "max_height": null,
            "max_width": null,
            "min_height": null,
            "min_width": null,
            "object_fit": null,
            "object_position": null,
            "order": null,
            "overflow": null,
            "overflow_x": null,
            "overflow_y": null,
            "padding": null,
            "right": null,
            "top": null,
            "visibility": null,
            "width": null
          }
        },
        "e6cfb1090065490baa7bb5252c1a6ab8": {
          "model_module": "@jupyter-widgets/controls",
          "model_name": "DescriptionStyleModel",
          "model_module_version": "1.5.0",
          "state": {
            "_model_module": "@jupyter-widgets/controls",
            "_model_module_version": "1.5.0",
            "_model_name": "DescriptionStyleModel",
            "_view_count": null,
            "_view_module": "@jupyter-widgets/base",
            "_view_module_version": "1.2.0",
            "_view_name": "StyleView",
            "description_width": ""
          }
        },
        "796a5721348b460eba4031ed3068c327": {
          "model_module": "@jupyter-widgets/base",
          "model_name": "LayoutModel",
          "model_module_version": "1.2.0",
          "state": {
            "_model_module": "@jupyter-widgets/base",
            "_model_module_version": "1.2.0",
            "_model_name": "LayoutModel",
            "_view_count": null,
            "_view_module": "@jupyter-widgets/base",
            "_view_module_version": "1.2.0",
            "_view_name": "LayoutView",
            "align_content": null,
            "align_items": null,
            "align_self": null,
            "border": null,
            "bottom": null,
            "display": null,
            "flex": null,
            "flex_flow": null,
            "grid_area": null,
            "grid_auto_columns": null,
            "grid_auto_flow": null,
            "grid_auto_rows": null,
            "grid_column": null,
            "grid_gap": null,
            "grid_row": null,
            "grid_template_areas": null,
            "grid_template_columns": null,
            "grid_template_rows": null,
            "height": null,
            "justify_content": null,
            "justify_items": null,
            "left": null,
            "margin": null,
            "max_height": null,
            "max_width": null,
            "min_height": null,
            "min_width": null,
            "object_fit": null,
            "object_position": null,
            "order": null,
            "overflow": null,
            "overflow_x": null,
            "overflow_y": null,
            "padding": null,
            "right": null,
            "top": null,
            "visibility": null,
            "width": null
          }
        },
        "e321d4d87afe4038b15e83e420e3cc44": {
          "model_module": "@jupyter-widgets/controls",
          "model_name": "ButtonStyleModel",
          "model_module_version": "1.5.0",
          "state": {
            "_model_module": "@jupyter-widgets/controls",
            "_model_module_version": "1.5.0",
            "_model_name": "ButtonStyleModel",
            "_view_count": null,
            "_view_module": "@jupyter-widgets/base",
            "_view_module_version": "1.2.0",
            "_view_name": "StyleView",
            "button_color": null,
            "font_weight": ""
          }
        },
        "6d269d47237a4fbb909e5b5f0bfed322": {
          "model_module": "@jupyter-widgets/base",
          "model_name": "LayoutModel",
          "model_module_version": "1.2.0",
          "state": {
            "_model_module": "@jupyter-widgets/base",
            "_model_module_version": "1.2.0",
            "_model_name": "LayoutModel",
            "_view_count": null,
            "_view_module": "@jupyter-widgets/base",
            "_view_module_version": "1.2.0",
            "_view_name": "LayoutView",
            "align_content": null,
            "align_items": null,
            "align_self": null,
            "border": null,
            "bottom": null,
            "display": null,
            "flex": null,
            "flex_flow": null,
            "grid_area": null,
            "grid_auto_columns": null,
            "grid_auto_flow": null,
            "grid_auto_rows": null,
            "grid_column": null,
            "grid_gap": null,
            "grid_row": null,
            "grid_template_areas": null,
            "grid_template_columns": null,
            "grid_template_rows": null,
            "height": null,
            "justify_content": null,
            "justify_items": null,
            "left": null,
            "margin": null,
            "max_height": null,
            "max_width": null,
            "min_height": null,
            "min_width": null,
            "object_fit": null,
            "object_position": null,
            "order": null,
            "overflow": null,
            "overflow_x": null,
            "overflow_y": null,
            "padding": null,
            "right": null,
            "top": null,
            "visibility": null,
            "width": null
          }
        },
        "c39a77dc1cf841c082683ec02a836a08": {
          "model_module": "@jupyter-widgets/controls",
          "model_name": "DescriptionStyleModel",
          "model_module_version": "1.5.0",
          "state": {
            "_model_module": "@jupyter-widgets/controls",
            "_model_module_version": "1.5.0",
            "_model_name": "DescriptionStyleModel",
            "_view_count": null,
            "_view_module": "@jupyter-widgets/base",
            "_view_module_version": "1.2.0",
            "_view_name": "StyleView",
            "description_width": ""
          }
        },
        "8ad9faad70a94a0bb25341623ab1a509": {
          "model_module": "@jupyter-widgets/controls",
          "model_name": "LabelModel",
          "model_module_version": "1.5.0",
          "state": {
            "_dom_classes": [],
            "_model_module": "@jupyter-widgets/controls",
            "_model_module_version": "1.5.0",
            "_model_name": "LabelModel",
            "_view_count": null,
            "_view_module": "@jupyter-widgets/controls",
            "_view_module_version": "1.5.0",
            "_view_name": "LabelView",
            "description": "",
            "description_tooltip": null,
            "layout": "IPY_MODEL_d0d6d32f7bd84d0bbf0b08d4a09cbb91",
            "placeholder": "​",
            "style": "IPY_MODEL_b0e88398a4e04714b73c8f89486a72a9",
            "value": "Connecting..."
          }
        },
        "d0d6d32f7bd84d0bbf0b08d4a09cbb91": {
          "model_module": "@jupyter-widgets/base",
          "model_name": "LayoutModel",
          "model_module_version": "1.2.0",
          "state": {
            "_model_module": "@jupyter-widgets/base",
            "_model_module_version": "1.2.0",
            "_model_name": "LayoutModel",
            "_view_count": null,
            "_view_module": "@jupyter-widgets/base",
            "_view_module_version": "1.2.0",
            "_view_name": "LayoutView",
            "align_content": null,
            "align_items": null,
            "align_self": null,
            "border": null,
            "bottom": null,
            "display": null,
            "flex": null,
            "flex_flow": null,
            "grid_area": null,
            "grid_auto_columns": null,
            "grid_auto_flow": null,
            "grid_auto_rows": null,
            "grid_column": null,
            "grid_gap": null,
            "grid_row": null,
            "grid_template_areas": null,
            "grid_template_columns": null,
            "grid_template_rows": null,
            "height": null,
            "justify_content": null,
            "justify_items": null,
            "left": null,
            "margin": null,
            "max_height": null,
            "max_width": null,
            "min_height": null,
            "min_width": null,
            "object_fit": null,
            "object_position": null,
            "order": null,
            "overflow": null,
            "overflow_x": null,
            "overflow_y": null,
            "padding": null,
            "right": null,
            "top": null,
            "visibility": null,
            "width": null
          }
        },
        "b0e88398a4e04714b73c8f89486a72a9": {
          "model_module": "@jupyter-widgets/controls",
          "model_name": "DescriptionStyleModel",
          "model_module_version": "1.5.0",
          "state": {
            "_model_module": "@jupyter-widgets/controls",
            "_model_module_version": "1.5.0",
            "_model_name": "DescriptionStyleModel",
            "_view_count": null,
            "_view_module": "@jupyter-widgets/base",
            "_view_module_version": "1.2.0",
            "_view_name": "StyleView",
            "description_width": ""
          }
        },
        "4873717286d2487f9eb26b16ba23a674": {
          "model_module": "@jupyter-widgets/controls",
          "model_name": "HBoxModel",
          "model_module_version": "1.5.0",
          "state": {
            "_dom_classes": [],
            "_model_module": "@jupyter-widgets/controls",
            "_model_module_version": "1.5.0",
            "_model_name": "HBoxModel",
            "_view_count": null,
            "_view_module": "@jupyter-widgets/controls",
            "_view_module_version": "1.5.0",
            "_view_name": "HBoxView",
            "box_style": "",
            "children": [
              "IPY_MODEL_722e82fd92a44e079543212c927fd4b9",
              "IPY_MODEL_1453bd33fa434760ab42a4cd21d2a0e4",
              "IPY_MODEL_e24f68e8215043d8bc9bd4121cb5e197"
            ],
            "layout": "IPY_MODEL_458f54a3c08441129ba7f2e7c537d03f"
          }
        },
        "722e82fd92a44e079543212c927fd4b9": {
          "model_module": "@jupyter-widgets/controls",
          "model_name": "HTMLModel",
          "model_module_version": "1.5.0",
          "state": {
            "_dom_classes": [],
            "_model_module": "@jupyter-widgets/controls",
            "_model_module_version": "1.5.0",
            "_model_name": "HTMLModel",
            "_view_count": null,
            "_view_module": "@jupyter-widgets/controls",
            "_view_module_version": "1.5.0",
            "_view_name": "HTMLView",
            "description": "",
            "description_tooltip": null,
            "layout": "IPY_MODEL_963c230828534397b26f0dc1d3b662c0",
            "placeholder": "​",
            "style": "IPY_MODEL_420b4f477c3f432bbc7c8ab7ceaa2bd7",
            "value": "Loading checkpoint shards: 100%"
          }
        },
        "1453bd33fa434760ab42a4cd21d2a0e4": {
          "model_module": "@jupyter-widgets/controls",
          "model_name": "FloatProgressModel",
          "model_module_version": "1.5.0",
          "state": {
            "_dom_classes": [],
            "_model_module": "@jupyter-widgets/controls",
            "_model_module_version": "1.5.0",
            "_model_name": "FloatProgressModel",
            "_view_count": null,
            "_view_module": "@jupyter-widgets/controls",
            "_view_module_version": "1.5.0",
            "_view_name": "ProgressView",
            "bar_style": "success",
            "description": "",
            "description_tooltip": null,
            "layout": "IPY_MODEL_d60ecc14fa434e44b7431eb9b16858e6",
            "max": 4,
            "min": 0,
            "orientation": "horizontal",
            "style": "IPY_MODEL_d9a001aee4fc4abfb2c014b0d7d6f26d",
            "value": 4
          }
        },
        "e24f68e8215043d8bc9bd4121cb5e197": {
          "model_module": "@jupyter-widgets/controls",
          "model_name": "HTMLModel",
          "model_module_version": "1.5.0",
          "state": {
            "_dom_classes": [],
            "_model_module": "@jupyter-widgets/controls",
            "_model_module_version": "1.5.0",
            "_model_name": "HTMLModel",
            "_view_count": null,
            "_view_module": "@jupyter-widgets/controls",
            "_view_module_version": "1.5.0",
            "_view_name": "HTMLView",
            "description": "",
            "description_tooltip": null,
            "layout": "IPY_MODEL_2b3155bf9bd34cb39d9ac8a536fd6a30",
            "placeholder": "​",
            "style": "IPY_MODEL_919fb87ba95e4041ac3c6f09dec320f4",
            "value": " 4/4 [00:18&lt;00:00,  3.77s/it]"
          }
        },
        "458f54a3c08441129ba7f2e7c537d03f": {
          "model_module": "@jupyter-widgets/base",
          "model_name": "LayoutModel",
          "model_module_version": "1.2.0",
          "state": {
            "_model_module": "@jupyter-widgets/base",
            "_model_module_version": "1.2.0",
            "_model_name": "LayoutModel",
            "_view_count": null,
            "_view_module": "@jupyter-widgets/base",
            "_view_module_version": "1.2.0",
            "_view_name": "LayoutView",
            "align_content": null,
            "align_items": null,
            "align_self": null,
            "border": null,
            "bottom": null,
            "display": null,
            "flex": null,
            "flex_flow": null,
            "grid_area": null,
            "grid_auto_columns": null,
            "grid_auto_flow": null,
            "grid_auto_rows": null,
            "grid_column": null,
            "grid_gap": null,
            "grid_row": null,
            "grid_template_areas": null,
            "grid_template_columns": null,
            "grid_template_rows": null,
            "height": null,
            "justify_content": null,
            "justify_items": null,
            "left": null,
            "margin": null,
            "max_height": null,
            "max_width": null,
            "min_height": null,
            "min_width": null,
            "object_fit": null,
            "object_position": null,
            "order": null,
            "overflow": null,
            "overflow_x": null,
            "overflow_y": null,
            "padding": null,
            "right": null,
            "top": null,
            "visibility": null,
            "width": null
          }
        },
        "963c230828534397b26f0dc1d3b662c0": {
          "model_module": "@jupyter-widgets/base",
          "model_name": "LayoutModel",
          "model_module_version": "1.2.0",
          "state": {
            "_model_module": "@jupyter-widgets/base",
            "_model_module_version": "1.2.0",
            "_model_name": "LayoutModel",
            "_view_count": null,
            "_view_module": "@jupyter-widgets/base",
            "_view_module_version": "1.2.0",
            "_view_name": "LayoutView",
            "align_content": null,
            "align_items": null,
            "align_self": null,
            "border": null,
            "bottom": null,
            "display": null,
            "flex": null,
            "flex_flow": null,
            "grid_area": null,
            "grid_auto_columns": null,
            "grid_auto_flow": null,
            "grid_auto_rows": null,
            "grid_column": null,
            "grid_gap": null,
            "grid_row": null,
            "grid_template_areas": null,
            "grid_template_columns": null,
            "grid_template_rows": null,
            "height": null,
            "justify_content": null,
            "justify_items": null,
            "left": null,
            "margin": null,
            "max_height": null,
            "max_width": null,
            "min_height": null,
            "min_width": null,
            "object_fit": null,
            "object_position": null,
            "order": null,
            "overflow": null,
            "overflow_x": null,
            "overflow_y": null,
            "padding": null,
            "right": null,
            "top": null,
            "visibility": null,
            "width": null
          }
        },
        "420b4f477c3f432bbc7c8ab7ceaa2bd7": {
          "model_module": "@jupyter-widgets/controls",
          "model_name": "DescriptionStyleModel",
          "model_module_version": "1.5.0",
          "state": {
            "_model_module": "@jupyter-widgets/controls",
            "_model_module_version": "1.5.0",
            "_model_name": "DescriptionStyleModel",
            "_view_count": null,
            "_view_module": "@jupyter-widgets/base",
            "_view_module_version": "1.2.0",
            "_view_name": "StyleView",
            "description_width": ""
          }
        },
        "d60ecc14fa434e44b7431eb9b16858e6": {
          "model_module": "@jupyter-widgets/base",
          "model_name": "LayoutModel",
          "model_module_version": "1.2.0",
          "state": {
            "_model_module": "@jupyter-widgets/base",
            "_model_module_version": "1.2.0",
            "_model_name": "LayoutModel",
            "_view_count": null,
            "_view_module": "@jupyter-widgets/base",
            "_view_module_version": "1.2.0",
            "_view_name": "LayoutView",
            "align_content": null,
            "align_items": null,
            "align_self": null,
            "border": null,
            "bottom": null,
            "display": null,
            "flex": null,
            "flex_flow": null,
            "grid_area": null,
            "grid_auto_columns": null,
            "grid_auto_flow": null,
            "grid_auto_rows": null,
            "grid_column": null,
            "grid_gap": null,
            "grid_row": null,
            "grid_template_areas": null,
            "grid_template_columns": null,
            "grid_template_rows": null,
            "height": null,
            "justify_content": null,
            "justify_items": null,
            "left": null,
            "margin": null,
            "max_height": null,
            "max_width": null,
            "min_height": null,
            "min_width": null,
            "object_fit": null,
            "object_position": null,
            "order": null,
            "overflow": null,
            "overflow_x": null,
            "overflow_y": null,
            "padding": null,
            "right": null,
            "top": null,
            "visibility": null,
            "width": null
          }
        },
        "d9a001aee4fc4abfb2c014b0d7d6f26d": {
          "model_module": "@jupyter-widgets/controls",
          "model_name": "ProgressStyleModel",
          "model_module_version": "1.5.0",
          "state": {
            "_model_module": "@jupyter-widgets/controls",
            "_model_module_version": "1.5.0",
            "_model_name": "ProgressStyleModel",
            "_view_count": null,
            "_view_module": "@jupyter-widgets/base",
            "_view_module_version": "1.2.0",
            "_view_name": "StyleView",
            "bar_color": null,
            "description_width": ""
          }
        },
        "2b3155bf9bd34cb39d9ac8a536fd6a30": {
          "model_module": "@jupyter-widgets/base",
          "model_name": "LayoutModel",
          "model_module_version": "1.2.0",
          "state": {
            "_model_module": "@jupyter-widgets/base",
            "_model_module_version": "1.2.0",
            "_model_name": "LayoutModel",
            "_view_count": null,
            "_view_module": "@jupyter-widgets/base",
            "_view_module_version": "1.2.0",
            "_view_name": "LayoutView",
            "align_content": null,
            "align_items": null,
            "align_self": null,
            "border": null,
            "bottom": null,
            "display": null,
            "flex": null,
            "flex_flow": null,
            "grid_area": null,
            "grid_auto_columns": null,
            "grid_auto_flow": null,
            "grid_auto_rows": null,
            "grid_column": null,
            "grid_gap": null,
            "grid_row": null,
            "grid_template_areas": null,
            "grid_template_columns": null,
            "grid_template_rows": null,
            "height": null,
            "justify_content": null,
            "justify_items": null,
            "left": null,
            "margin": null,
            "max_height": null,
            "max_width": null,
            "min_height": null,
            "min_width": null,
            "object_fit": null,
            "object_position": null,
            "order": null,
            "overflow": null,
            "overflow_x": null,
            "overflow_y": null,
            "padding": null,
            "right": null,
            "top": null,
            "visibility": null,
            "width": null
          }
        },
        "919fb87ba95e4041ac3c6f09dec320f4": {
          "model_module": "@jupyter-widgets/controls",
          "model_name": "DescriptionStyleModel",
          "model_module_version": "1.5.0",
          "state": {
            "_model_module": "@jupyter-widgets/controls",
            "_model_module_version": "1.5.0",
            "_model_name": "DescriptionStyleModel",
            "_view_count": null,
            "_view_module": "@jupyter-widgets/base",
            "_view_module_version": "1.2.0",
            "_view_name": "StyleView",
            "description_width": ""
          }
        }
      }
    }
  },
  "cells": [
    {
      "cell_type": "code",
      "execution_count": 1,
      "metadata": {
        "colab": {
          "base_uri": "https://localhost:8080/"
        },
        "id": "RZ1li-R4at_q",
        "outputId": "7e89ef62-1387-441a-fa87-5d8a30a8be6b"
      },
      "outputs": [
        {
          "output_type": "stream",
          "name": "stdout",
          "text": [
            "Mounted at /content/drive\n"
          ]
        }
      ],
      "source": [
        "# prompt: driveをマウント\n",
        "\n",
        "from google.colab import drive\n",
        "drive.mount('/content/drive')\n"
      ]
    },
    {
      "cell_type": "code",
      "source": [
        "!pip install --upgrade transformers\n",
        "!pip install google-colab-selenium\n",
        "!pip install bitsandbytes"
      ],
      "metadata": {
        "colab": {
          "base_uri": "https://localhost:8080/"
        },
        "id": "e5ItzLS6a10d",
        "outputId": "78f421e9-34f8-4864-a3e5-b21729df83fb"
      },
      "execution_count": 2,
      "outputs": [
        {
          "output_type": "stream",
          "name": "stdout",
          "text": [
            "Requirement already satisfied: transformers in /usr/local/lib/python3.11/dist-packages (4.51.3)\n",
            "Requirement already satisfied: filelock in /usr/local/lib/python3.11/dist-packages (from transformers) (3.18.0)\n",
            "Requirement already satisfied: huggingface-hub<1.0,>=0.30.0 in /usr/local/lib/python3.11/dist-packages (from transformers) (0.30.2)\n",
            "Requirement already satisfied: numpy>=1.17 in /usr/local/lib/python3.11/dist-packages (from transformers) (2.0.2)\n",
            "Requirement already satisfied: packaging>=20.0 in /usr/local/lib/python3.11/dist-packages (from transformers) (24.2)\n",
            "Requirement already satisfied: pyyaml>=5.1 in /usr/local/lib/python3.11/dist-packages (from transformers) (6.0.2)\n",
            "Requirement already satisfied: regex!=2019.12.17 in /usr/local/lib/python3.11/dist-packages (from transformers) (2024.11.6)\n",
            "Requirement already satisfied: requests in /usr/local/lib/python3.11/dist-packages (from transformers) (2.32.3)\n",
            "Requirement already satisfied: tokenizers<0.22,>=0.21 in /usr/local/lib/python3.11/dist-packages (from transformers) (0.21.1)\n",
            "Requirement already satisfied: safetensors>=0.4.3 in /usr/local/lib/python3.11/dist-packages (from transformers) (0.5.3)\n",
            "Requirement already satisfied: tqdm>=4.27 in /usr/local/lib/python3.11/dist-packages (from transformers) (4.67.1)\n",
            "Requirement already satisfied: fsspec>=2023.5.0 in /usr/local/lib/python3.11/dist-packages (from huggingface-hub<1.0,>=0.30.0->transformers) (2025.3.2)\n",
            "Requirement already satisfied: typing-extensions>=3.7.4.3 in /usr/local/lib/python3.11/dist-packages (from huggingface-hub<1.0,>=0.30.0->transformers) (4.13.2)\n",
            "Requirement already satisfied: charset-normalizer<4,>=2 in /usr/local/lib/python3.11/dist-packages (from requests->transformers) (3.4.1)\n",
            "Requirement already satisfied: idna<4,>=2.5 in /usr/local/lib/python3.11/dist-packages (from requests->transformers) (3.10)\n",
            "Requirement already satisfied: urllib3<3,>=1.21.1 in /usr/local/lib/python3.11/dist-packages (from requests->transformers) (2.4.0)\n",
            "Requirement already satisfied: certifi>=2017.4.17 in /usr/local/lib/python3.11/dist-packages (from requests->transformers) (2025.4.26)\n",
            "Requirement already satisfied: google-colab-selenium in /usr/local/lib/python3.11/dist-packages (1.0.14)\n",
            "Requirement already satisfied: selenium in /usr/local/lib/python3.11/dist-packages (from google-colab-selenium) (4.32.0)\n",
            "Requirement already satisfied: urllib3<3,>=1.26 in /usr/local/lib/python3.11/dist-packages (from urllib3[socks]<3,>=1.26->selenium->google-colab-selenium) (2.4.0)\n",
            "Requirement already satisfied: trio~=0.17 in /usr/local/lib/python3.11/dist-packages (from selenium->google-colab-selenium) (0.30.0)\n",
            "Requirement already satisfied: trio-websocket~=0.9 in /usr/local/lib/python3.11/dist-packages (from selenium->google-colab-selenium) (0.12.2)\n",
            "Requirement already satisfied: certifi>=2021.10.8 in /usr/local/lib/python3.11/dist-packages (from selenium->google-colab-selenium) (2025.4.26)\n",
            "Requirement already satisfied: typing_extensions~=4.9 in /usr/local/lib/python3.11/dist-packages (from selenium->google-colab-selenium) (4.13.2)\n",
            "Requirement already satisfied: websocket-client~=1.8 in /usr/local/lib/python3.11/dist-packages (from selenium->google-colab-selenium) (1.8.0)\n",
            "Requirement already satisfied: attrs>=23.2.0 in /usr/local/lib/python3.11/dist-packages (from trio~=0.17->selenium->google-colab-selenium) (25.3.0)\n",
            "Requirement already satisfied: sortedcontainers in /usr/local/lib/python3.11/dist-packages (from trio~=0.17->selenium->google-colab-selenium) (2.4.0)\n",
            "Requirement already satisfied: idna in /usr/local/lib/python3.11/dist-packages (from trio~=0.17->selenium->google-colab-selenium) (3.10)\n",
            "Requirement already satisfied: outcome in /usr/local/lib/python3.11/dist-packages (from trio~=0.17->selenium->google-colab-selenium) (1.3.0.post0)\n",
            "Requirement already satisfied: sniffio>=1.3.0 in /usr/local/lib/python3.11/dist-packages (from trio~=0.17->selenium->google-colab-selenium) (1.3.1)\n",
            "Requirement already satisfied: wsproto>=0.14 in /usr/local/lib/python3.11/dist-packages (from trio-websocket~=0.9->selenium->google-colab-selenium) (1.2.0)\n",
            "Requirement already satisfied: pysocks!=1.5.7,<2.0,>=1.5.6 in /usr/local/lib/python3.11/dist-packages (from urllib3[socks]<3,>=1.26->selenium->google-colab-selenium) (1.7.1)\n",
            "Requirement already satisfied: h11<1,>=0.9.0 in /usr/local/lib/python3.11/dist-packages (from wsproto>=0.14->trio-websocket~=0.9->selenium->google-colab-selenium) (0.16.0)\n",
            "Requirement already satisfied: bitsandbytes in /usr/local/lib/python3.11/dist-packages (0.45.5)\n",
            "Requirement already satisfied: torch<3,>=2.0 in /usr/local/lib/python3.11/dist-packages (from bitsandbytes) (2.6.0+cu124)\n",
            "Requirement already satisfied: numpy>=1.17 in /usr/local/lib/python3.11/dist-packages (from bitsandbytes) (2.0.2)\n",
            "Requirement already satisfied: filelock in /usr/local/lib/python3.11/dist-packages (from torch<3,>=2.0->bitsandbytes) (3.18.0)\n",
            "Requirement already satisfied: typing-extensions>=4.10.0 in /usr/local/lib/python3.11/dist-packages (from torch<3,>=2.0->bitsandbytes) (4.13.2)\n",
            "Requirement already satisfied: networkx in /usr/local/lib/python3.11/dist-packages (from torch<3,>=2.0->bitsandbytes) (3.4.2)\n",
            "Requirement already satisfied: jinja2 in /usr/local/lib/python3.11/dist-packages (from torch<3,>=2.0->bitsandbytes) (3.1.6)\n",
            "Requirement already satisfied: fsspec in /usr/local/lib/python3.11/dist-packages (from torch<3,>=2.0->bitsandbytes) (2025.3.2)\n",
            "Requirement already satisfied: nvidia-cuda-nvrtc-cu12==12.4.127 in /usr/local/lib/python3.11/dist-packages (from torch<3,>=2.0->bitsandbytes) (12.4.127)\n",
            "Requirement already satisfied: nvidia-cuda-runtime-cu12==12.4.127 in /usr/local/lib/python3.11/dist-packages (from torch<3,>=2.0->bitsandbytes) (12.4.127)\n",
            "Requirement already satisfied: nvidia-cuda-cupti-cu12==12.4.127 in /usr/local/lib/python3.11/dist-packages (from torch<3,>=2.0->bitsandbytes) (12.4.127)\n",
            "Requirement already satisfied: nvidia-cudnn-cu12==9.1.0.70 in /usr/local/lib/python3.11/dist-packages (from torch<3,>=2.0->bitsandbytes) (9.1.0.70)\n",
            "Requirement already satisfied: nvidia-cublas-cu12==12.4.5.8 in /usr/local/lib/python3.11/dist-packages (from torch<3,>=2.0->bitsandbytes) (12.4.5.8)\n",
            "Requirement already satisfied: nvidia-cufft-cu12==11.2.1.3 in /usr/local/lib/python3.11/dist-packages (from torch<3,>=2.0->bitsandbytes) (11.2.1.3)\n",
            "Requirement already satisfied: nvidia-curand-cu12==10.3.5.147 in /usr/local/lib/python3.11/dist-packages (from torch<3,>=2.0->bitsandbytes) (10.3.5.147)\n",
            "Requirement already satisfied: nvidia-cusolver-cu12==11.6.1.9 in /usr/local/lib/python3.11/dist-packages (from torch<3,>=2.0->bitsandbytes) (11.6.1.9)\n",
            "Requirement already satisfied: nvidia-cusparse-cu12==12.3.1.170 in /usr/local/lib/python3.11/dist-packages (from torch<3,>=2.0->bitsandbytes) (12.3.1.170)\n",
            "Requirement already satisfied: nvidia-cusparselt-cu12==0.6.2 in /usr/local/lib/python3.11/dist-packages (from torch<3,>=2.0->bitsandbytes) (0.6.2)\n",
            "Requirement already satisfied: nvidia-nccl-cu12==2.21.5 in /usr/local/lib/python3.11/dist-packages (from torch<3,>=2.0->bitsandbytes) (2.21.5)\n",
            "Requirement already satisfied: nvidia-nvtx-cu12==12.4.127 in /usr/local/lib/python3.11/dist-packages (from torch<3,>=2.0->bitsandbytes) (12.4.127)\n",
            "Requirement already satisfied: nvidia-nvjitlink-cu12==12.4.127 in /usr/local/lib/python3.11/dist-packages (from torch<3,>=2.0->bitsandbytes) (12.4.127)\n",
            "Requirement already satisfied: triton==3.2.0 in /usr/local/lib/python3.11/dist-packages (from torch<3,>=2.0->bitsandbytes) (3.2.0)\n",
            "Requirement already satisfied: sympy==1.13.1 in /usr/local/lib/python3.11/dist-packages (from torch<3,>=2.0->bitsandbytes) (1.13.1)\n",
            "Requirement already satisfied: mpmath<1.4,>=1.1.0 in /usr/local/lib/python3.11/dist-packages (from sympy==1.13.1->torch<3,>=2.0->bitsandbytes) (1.3.0)\n",
            "Requirement already satisfied: MarkupSafe>=2.0 in /usr/local/lib/python3.11/dist-packages (from jinja2->torch<3,>=2.0->bitsandbytes) (3.0.2)\n"
          ]
        }
      ]
    },
    {
      "cell_type": "code",
      "source": [
        "# 演習用のコンテンツを取得\n",
        "!git clone https://github.com/matsuolab/lecture-ai-engineering.git"
      ],
      "metadata": {
        "colab": {
          "base_uri": "https://localhost:8080/"
        },
        "id": "HXWxnUBXa6gv",
        "outputId": "dad6ddd8-392d-43b2-cafa-d38cc3042093"
      },
      "execution_count": 3,
      "outputs": [
        {
          "output_type": "stream",
          "name": "stdout",
          "text": [
            "fatal: destination path 'lecture-ai-engineering' already exists and is not an empty directory.\n"
          ]
        }
      ]
    },
    {
      "cell_type": "code",
      "source": [
        "# HuggingFace Login\n",
        "from huggingface_hub import notebook_login\n",
        "\n",
        "notebook_login()"
      ],
      "metadata": {
        "colab": {
          "base_uri": "https://localhost:8080/",
          "height": 17,
          "referenced_widgets": [
            "876c33077f144580acde2e02590be94b",
            "15979dcda8e241fe9398735d5b0951b3",
            "eb603fb27ef6489da6fd3039da8abd7d",
            "e4e85644866248e7920b462fa4a65536",
            "9f27e31b14a748ed88fb44201010995b",
            "344a10ccd42943259c4aeb54a62db7b6",
            "828737e90f594366b4af33c5384e321f",
            "02fa18efb91b43b5a27de21ea296fc77",
            "fbd9f99980b24dc6a26111c2dc8a4b36",
            "8f917b76c06943b8bcb969feea2f6006",
            "376834d80560448f8d15e963acfc6a62",
            "ce79f05e94a6456da4207d43289d4d0c",
            "e6cfb1090065490baa7bb5252c1a6ab8",
            "796a5721348b460eba4031ed3068c327",
            "e321d4d87afe4038b15e83e420e3cc44",
            "6d269d47237a4fbb909e5b5f0bfed322",
            "c39a77dc1cf841c082683ec02a836a08",
            "8ad9faad70a94a0bb25341623ab1a509",
            "d0d6d32f7bd84d0bbf0b08d4a09cbb91",
            "b0e88398a4e04714b73c8f89486a72a9"
          ]
        },
        "id": "pFAZ7mACa8k5",
        "outputId": "82ee5af6-2271-47f0-8ed6-e0b1d64346d6"
      },
      "execution_count": 4,
      "outputs": [
        {
          "output_type": "display_data",
          "data": {
            "text/plain": [
              "VBox(children=(HTML(value='<center> <img\\nsrc=https://huggingface.co/front/assets/huggingface_logo-noborder.sv…"
            ],
            "application/vnd.jupyter.widget-view+json": {
              "version_major": 2,
              "version_minor": 0,
              "model_id": "876c33077f144580acde2e02590be94b"
            }
          },
          "metadata": {}
        }
      ]
    },
    {
      "cell_type": "code",
      "source": [
        "# CUDAが利用可能ならGPUを、それ以外ならCPUをデバイスとして設定\n",
        "import torch\n",
        "device = torch.device(\"cuda\" if torch.cuda.is_available() else \"cpu\")"
      ],
      "metadata": {
        "id": "03r9kVPkboCN"
      },
      "execution_count": 5,
      "outputs": []
    },
    {
      "cell_type": "code",
      "source": [
        "import random\n",
        "random.seed(0)"
      ],
      "metadata": {
        "id": "rygbmUd_bs7j"
      },
      "execution_count": 6,
      "outputs": []
    },
    {
      "cell_type": "code",
      "source": [
        "# モデル(Llama3)の読み込み\n",
        "\n",
        "from transformers import AutoModelForCausalLM, AutoTokenizer, BitsAndBytesConfig\n",
        "\n",
        "model_name = \"meta-llama/Meta-Llama-3-8B-Instruct\"\n",
        "tokenizer = AutoTokenizer.from_pretrained(model_name)\n",
        "\n",
        "bnb_config = BitsAndBytesConfig(\n",
        "    load_in_4bit=True,\n",
        "    bnb_4bit_compute_dtype=torch.float16,\n",
        "    bnb_4bit_quant_type=\"nf4\",\n",
        "    bnb_4bit_use_double_quant=False,\n",
        ")\n",
        "\n",
        "model = AutoModelForCausalLM.from_pretrained(\n",
        "            model_name,\n",
        "            device_map=\"auto\",\n",
        "            quantization_config=bnb_config,\n",
        "            torch_dtype=torch.bfloat16,\n",
        "        )"
      ],
      "metadata": {
        "colab": {
          "base_uri": "https://localhost:8080/",
          "height": 178,
          "referenced_widgets": [
            "4873717286d2487f9eb26b16ba23a674",
            "722e82fd92a44e079543212c927fd4b9",
            "1453bd33fa434760ab42a4cd21d2a0e4",
            "e24f68e8215043d8bc9bd4121cb5e197",
            "458f54a3c08441129ba7f2e7c537d03f",
            "963c230828534397b26f0dc1d3b662c0",
            "420b4f477c3f432bbc7c8ab7ceaa2bd7",
            "d60ecc14fa434e44b7431eb9b16858e6",
            "d9a001aee4fc4abfb2c014b0d7d6f26d",
            "2b3155bf9bd34cb39d9ac8a536fd6a30",
            "919fb87ba95e4041ac3c6f09dec320f4"
          ]
        },
        "id": "gqQZehjubuiL",
        "outputId": "a237a6d9-f68d-412f-e959-896d971ed368"
      },
      "execution_count": 7,
      "outputs": [
        {
          "output_type": "stream",
          "name": "stderr",
          "text": [
            "/usr/local/lib/python3.11/dist-packages/huggingface_hub/utils/_auth.py:94: UserWarning: \n",
            "The secret `HF_TOKEN` does not exist in your Colab secrets.\n",
            "To authenticate with the Hugging Face Hub, create a token in your settings tab (https://huggingface.co/settings/tokens), set it as secret in your Google Colab and restart your session.\n",
            "You will be able to reuse this secret in all of your notebooks.\n",
            "Please note that authentication is recommended but still optional to access public models or datasets.\n",
            "  warnings.warn(\n"
          ]
        },
        {
          "output_type": "display_data",
          "data": {
            "text/plain": [
              "Loading checkpoint shards:   0%|          | 0/4 [00:00<?, ?it/s]"
            ],
            "application/vnd.jupyter.widget-view+json": {
              "version_major": 2,
              "version_minor": 0,
              "model_id": "4873717286d2487f9eb26b16ba23a674"
            }
          },
          "metadata": {}
        }
      ]
    },
    {
      "cell_type": "markdown",
      "source": [
        "# 1. ベースラインモデル評価\n",
        "**まずはベースモデルがどの程度知識を持っているか確かめる**"
      ],
      "metadata": {
        "id": "-a0i134Mb0KT"
      }
    },
    {
      "cell_type": "code",
      "source": [
        "def generate_output(query, system_prompt=None):\n",
        "  if system_prompt is None:\n",
        "    messages = [\n",
        "        {\"role\": \"user\", \"content\": query},\n",
        "    ]\n",
        "  else:\n",
        "    messages = [\n",
        "        {\"role\": \"system\", \"content\": system_prompt},\n",
        "        {\"role\": \"user\", \"content\": query},\n",
        "    ]\n",
        "  input_ids = tokenizer.apply_chat_template(\n",
        "      messages,\n",
        "      add_generation_prompt=True,\n",
        "      return_tensors=\"pt\"\n",
        "  ).to(model.device)\n",
        "\n",
        "  terminators = [\n",
        "      tokenizer.eos_token_id,\n",
        "      tokenizer.convert_tokens_to_ids(\"<|eot_id|>\")\n",
        "  ]\n",
        "\n",
        "  outputs = model.generate(\n",
        "      input_ids,\n",
        "      max_new_tokens=512,\n",
        "      eos_token_id=terminators,\n",
        "      do_sample=False,\n",
        "      # temperature=0.6, # If do_sample=True\n",
        "      # top_p=0.9,  # If do_sample=True\n",
        "  )\n",
        "\n",
        "  response = outputs[0][input_ids.shape[-1]:]\n",
        "  return tokenizer.decode(response, skip_special_tokens=True)"
      ],
      "metadata": {
        "id": "82UM_6zAbwoF"
      },
      "execution_count": 18,
      "outputs": []
    },
    {
      "cell_type": "code",
      "source": [
        "system_prompt = \"質問に回答してください。必ず「日本語で回答」すること。\"\n",
        "question =  \"SIGGRAPHとは何ですか？\"\n",
        "response = generate_output(question, system_prompt)"
      ],
      "metadata": {
        "colab": {
          "base_uri": "https://localhost:8080/"
        },
        "id": "DPikjRrDcoCc",
        "outputId": "c53a54f6-ba93-4976-c254-a20ae7af954e"
      },
      "execution_count": 12,
      "outputs": [
        {
          "output_type": "stream",
          "name": "stderr",
          "text": [
            "/usr/local/lib/python3.11/dist-packages/transformers/generation/configuration_utils.py:631: UserWarning: `do_sample` is set to `False`. However, `temperature` is set to `0.6` -- this flag is only used in sample-based generation modes. You should set `do_sample=True` or unset `temperature`.\n",
            "  warnings.warn(\n",
            "/usr/local/lib/python3.11/dist-packages/transformers/generation/configuration_utils.py:636: UserWarning: `do_sample` is set to `False`. However, `top_p` is set to `0.9` -- this flag is only used in sample-based generation modes. You should set `do_sample=True` or unset `top_p`.\n",
            "  warnings.warn(\n",
            "The attention mask and the pad token id were not set. As a consequence, you may observe unexpected behavior. Please pass your input's `attention_mask` to obtain reliable results.\n",
            "Setting `pad_token_id` to `eos_token_id`:128009 for open-end generation.\n",
            "The attention mask is not set and cannot be inferred from input because pad token is same as eos token. As a consequence, you may observe unexpected behavior. Please pass your input's `attention_mask` to obtain reliable results.\n"
          ]
        }
      ]
    },
    {
      "cell_type": "code",
      "source": [
        "print(response)"
      ],
      "metadata": {
        "colab": {
          "base_uri": "https://localhost:8080/"
        },
        "id": "rtWu169qc1h1",
        "outputId": "5d982c2a-1403-4cec-9677-d045311d68e9"
      },
      "execution_count": 13,
      "outputs": [
        {
          "output_type": "stream",
          "name": "stdout",
          "text": [
            "SIGGRAPHは、コンピュータグラフィックス、コンピュータアート、インタラクティブシステム、ゲーム、仮想現実、人工知能など、関連する分野の研究、開発、展示を目的としている国際会議です。SIGGRAPHは、ACM（Association for Computing Machinery）の下部組織であるSIGGRAPH（Special Interest Group on Computer Graphics and Interactive Techniques）によって主催され、年に一度開催されます。\n",
            "\n",
            "SIGGRAPHでは、世界中の研究者、開発者、学生などが、最新の技術や研究成果を発表し、展示することができます。また、会議では、展示会、ワークショップ、セミナー、パネルディスカッションなど、多くのイベントが開催されます。\n",
            "\n",
            "SIGGRAPHは、コンピュータグラフィックスや関連する分野の研究、開発、展示の最重要のイベントとして知られており、世界中の研究者、開発者、学生などが参加することで、最新の技術や研究成果を学ぶことができます。\n"
          ]
        }
      ]
    },
    {
      "cell_type": "code",
      "source": [
        "!pip install -U openai"
      ],
      "metadata": {
        "colab": {
          "base_uri": "https://localhost:8080/"
        },
        "id": "7MGiQeQVc8Oe",
        "outputId": "eafe2e1a-f1e7-453e-f1eb-2a303b896ebf"
      },
      "execution_count": 9,
      "outputs": [
        {
          "output_type": "stream",
          "name": "stdout",
          "text": [
            "Requirement already satisfied: openai in /usr/local/lib/python3.11/dist-packages (1.77.0)\n",
            "Requirement already satisfied: anyio<5,>=3.5.0 in /usr/local/lib/python3.11/dist-packages (from openai) (4.9.0)\n",
            "Requirement already satisfied: distro<2,>=1.7.0 in /usr/local/lib/python3.11/dist-packages (from openai) (1.9.0)\n",
            "Requirement already satisfied: httpx<1,>=0.23.0 in /usr/local/lib/python3.11/dist-packages (from openai) (0.28.1)\n",
            "Requirement already satisfied: jiter<1,>=0.4.0 in /usr/local/lib/python3.11/dist-packages (from openai) (0.9.0)\n",
            "Requirement already satisfied: pydantic<3,>=1.9.0 in /usr/local/lib/python3.11/dist-packages (from openai) (2.11.4)\n",
            "Requirement already satisfied: sniffio in /usr/local/lib/python3.11/dist-packages (from openai) (1.3.1)\n",
            "Requirement already satisfied: tqdm>4 in /usr/local/lib/python3.11/dist-packages (from openai) (4.67.1)\n",
            "Requirement already satisfied: typing-extensions<5,>=4.11 in /usr/local/lib/python3.11/dist-packages (from openai) (4.13.2)\n",
            "Requirement already satisfied: idna>=2.8 in /usr/local/lib/python3.11/dist-packages (from anyio<5,>=3.5.0->openai) (3.10)\n",
            "Requirement already satisfied: certifi in /usr/local/lib/python3.11/dist-packages (from httpx<1,>=0.23.0->openai) (2025.4.26)\n",
            "Requirement already satisfied: httpcore==1.* in /usr/local/lib/python3.11/dist-packages (from httpx<1,>=0.23.0->openai) (1.0.9)\n",
            "Requirement already satisfied: h11>=0.16 in /usr/local/lib/python3.11/dist-packages (from httpcore==1.*->httpx<1,>=0.23.0->openai) (0.16.0)\n",
            "Requirement already satisfied: annotated-types>=0.6.0 in /usr/local/lib/python3.11/dist-packages (from pydantic<3,>=1.9.0->openai) (0.7.0)\n",
            "Requirement already satisfied: pydantic-core==2.33.2 in /usr/local/lib/python3.11/dist-packages (from pydantic<3,>=1.9.0->openai) (2.33.2)\n",
            "Requirement already satisfied: typing-inspection>=0.4.0 in /usr/local/lib/python3.11/dist-packages (from pydantic<3,>=1.9.0->openai) (0.4.0)\n"
          ]
        }
      ]
    },
    {
      "cell_type": "code",
      "source": [
        "gold_answers = [\n",
        "    \"コンピュータグラフィックス（CG）とインタラクティブ技術に関する ACM SIGGRAPH 主催の世界最大級の国際会議\",\n",
        "    \"ハリケーンや竜巻などの大規模な大気現象。\",\n",
        "    \"剛体接触における非平滑（クーロン）摩擦をロバストかつ高精度に数値的に解くこと。\",\n",
        "    \"Real-Time Live! 「Best in Show」賞。\",\n",
        "    \"タイトル: \\\"Repulsive Shells\\\" 分野: ソルバー／手法（衝突・接触処理アルゴリズム）。\",\n",
        "    \"Neural network representation for fluid simulation　目的: ニューラルフィールドで流体場を表現し、境界条件を陽的に満たしつつ Monte Carlo 圧力ソルバーで高速・高精度に流体計算を行う。Taming Diffusion Probabilistic Models for Character Control（または “Flexible Motion In-betweening with Diffusion Models”）目的: 拡散モデルを用いてキャラクターのモーション（補間や制御）をデータ駆動で生成し、従来の物理シムでは難しい滑らかな動きを効率的に得る。\"\n",
        "]"
      ],
      "metadata": {
        "id": "BpQedJM3l9vL"
      },
      "execution_count": 10,
      "outputs": []
    },
    {
      "cell_type": "code",
      "source": [
        "# @title 評価実装\n",
        "\n",
        "from openai import OpenAI\n",
        "from google.colab import userdata\n",
        "client = OpenAI(api_key=userdata.get(\"OPENAI_API_KEY\"), max_retries=5, timeout=60)\n",
        "\n",
        "def openai_generator(query):\n",
        "\n",
        "        messages = [\n",
        "                    {\n",
        "                        \"role\": \"user\",\n",
        "                        \"content\": query\n",
        "                    }\n",
        "                ]\n",
        "\n",
        "        response = client.chat.completions.create(\n",
        "            model=\"gpt-4o-mini\",\n",
        "            messages=messages\n",
        "        )\n",
        "        return response.choices[0].message.content\n",
        "\n",
        "def evaluate_answer_accuracy(query, response, reference):\n",
        "\n",
        "    template_accuracy1 = (\n",
        "          \"Instruction: You are a world class state of the art assistant for rating \"\n",
        "          \"a User Answer given a Question. The Question is completely answered by the Reference Answer.\\n\"\n",
        "          \"Say 4, if User Answer is full contained and equivalent to Reference Answer\"\n",
        "          \"in all terms, topics, numbers, metrics, dates and units.\\n\"\n",
        "          \"Say 2, if User Answer is partially contained and almost equivalent to Reference Answer\"\n",
        "          \"in all terms, topics, numbers, metrics, dates and units.\\n\"\n",
        "          \"Say 0, if User Answer is not contained in Reference Answer or not accurate in all terms, topics,\"\n",
        "          \"numbers, metrics, dates and units or the User Answer do not answer the question.\\n\"\n",
        "          \"Do not explain or justify your rating. Your rating must be only 4, 2 or 0 according to the instructions above.\\n\"\n",
        "          \"Even small discrepancies in meaning, terminology, directionality, or implication must result in a lower score. Only rate 4 if the User Answer is a complete and precise match to the Reference Answer in every aspect.\\n\"\n",
        "          \"### Question: {query}\\n\"\n",
        "          \"### {answer0}: {sentence_inference}\\n\"\n",
        "          \"### {answer1}: {sentence_true}\\n\"\n",
        "          \"The rating is:\\n\"\n",
        "      )\n",
        "    template_accuracy2 = (\n",
        "          \"I will rate the User Answer in comparison to the Reference Answer for a given Question.\\n\"\n",
        "          \"A rating of 4 indicates that the User Answer is entirely consistent with the Reference Answer, covering all aspects, topics, numbers, metrics, dates, and units.\\n\"\n",
        "          \"A rating of 2 signifies that the User Answer is mostly aligned with the Reference Answer, with minor discrepancies in some areas.\\n\"\n",
        "          \"A rating of 0 means that the User Answer is either inaccurate, incomplete, or unrelated to the Reference Answer, or it fails to address the Question.\\n\"\n",
        "          \"I will provide the rating without any explanation or justification, adhering to the following scale: 0 (no match), 2 (partial match), 4 (exact match).\\n\"\n",
        "          \"Even minor inconsistencies in meaning, terminology, emphasis, or factual detail should prevent a rating of 4. Only assign a 4 if the User Answer exactly and unambiguously matches the Reference Answer in every respect.\"\n",
        "          \"Do not explain or justify my rating. My rating must be only 4, 2 or 0 only.\\n\\n\"\n",
        "          \"Question: {query}\\n\\n\"\n",
        "          \"{answer0}: {sentence_inference}\\n\\n\"\n",
        "          \"{answer1}: {sentence_true}\\n\\n\"\n",
        "          \"Rating: \"\n",
        "      )\n",
        "\n",
        "    score1 = openai_generator(\n",
        "                template_accuracy1.format(\n",
        "                      query=query,\n",
        "                      answer0=\"User Answer\",\n",
        "                      answer1=\"Reference Answer\",\n",
        "                      sentence_inference=response,\n",
        "                      sentence_true=reference,\n",
        "                    )\n",
        "                )\n",
        "    try:\n",
        "      score1 = int(score1)\n",
        "    except:\n",
        "      print(\"Failed\")\n",
        "      score1 = 0\n",
        "\n",
        "    score2 = openai_generator(\n",
        "                template_accuracy2.format(\n",
        "                        query=query,\n",
        "                        answer0=\"Reference Answer\",\n",
        "                        answer1=\"User Answer\",\n",
        "                        sentence_inference=reference,\n",
        "                        sentence_true=response,\n",
        "                    )\n",
        "                  )\n",
        "\n",
        "    try:\n",
        "      score2 = int(score2)\n",
        "    except:\n",
        "      print(\"Failed\")\n",
        "      score2 = 0\n",
        "\n",
        "\n",
        "    return (score1 + score2) / 2\n",
        "\n",
        "# 完全性評価\n",
        "def evaluate_answer_completeness(query, response, reference):\n",
        "    \"\"\"\n",
        "    4 : User Answer が Reference の情報を漏れなく含み、等価\n",
        "    2 : 主要ポイントはカバーしているが一部欠落している\n",
        "    0 : ほとんど／まったくカバーしていない\n",
        "    \"\"\"\n",
        "    prompt = (\n",
        "        \"Instruction: You are an expert grader for COMPLETENESS.\\n\"\n",
        "        \"Rate how completely the User Answer covers the information found in the Reference Answer \"\n",
        "        \"for the given Question.\\n\"\n",
        "        \"Say 4 (fully complete) if *every* fact, number, and nuance in the Reference appears in the User Answer.\\n\"\n",
        "        \"Say 2 (partially complete) if the User Answer covers most key ideas but omits some details.\\n\"\n",
        "        \"Say 0 (incomplete) if it misses many important points or answers a different aspect.\\n\"\n",
        "        \"Do NOT explain—return only 4, 2, or 0.\\n\\n\"\n",
        "        \"### Question: {query}\\n\"\n",
        "        \"### Reference Answer: {reference}\\n\"\n",
        "        \"### User Answer: {response}\\n\"\n",
        "        \"Score:\"\n",
        "    ).format(query=query, reference=reference, response=response)\n",
        "\n",
        "    try:\n",
        "        score = int(openai_generator(prompt))\n",
        "    except Exception:\n",
        "        score = 0\n",
        "    return score\n",
        "\n",
        "#関連性評価\n",
        "def evaluate_answer_relevance(query, response):\n",
        "    \"\"\"\n",
        "    4 : 回答が質問に直接・適切に答えていて余計な脱線がない\n",
        "    2 : 部分的には答えているが、やや的外れ／不要情報が多い\n",
        "    0 : ほぼ（または完全に）質問に答えていない／別トピック\n",
        "    \"\"\"\n",
        "    prompt = (\n",
        "        \"Instruction: You are an expert grader for RELEVANCE.\\n\"\n",
        "        \"Given a Question and a User Answer, rate how relevant the answer is to that question.\\n\"\n",
        "        \"Say 4 (highly relevant) if the answer directly and fully addresses the question with minimal off-topic content.\\n\"\n",
        "        \"Say 2 (partially relevant) if it answers only part of the question or includes significant digressions.\\n\"\n",
        "        \"Say 0 (irrelevant) if it fails to answer the question or is largely off-topic.\\n\"\n",
        "        \"Do NOT explain—return only 4, 2, or 0.\\n\\n\"\n",
        "        \"### Question: {query}\\n\"\n",
        "        \"### User Answer: {response}\\n\"\n",
        "        \"Score:\"\n",
        "    ).format(query=query, response=response)\n",
        "\n",
        "    try:\n",
        "        score = int(openai_generator(prompt))\n",
        "    except Exception:\n",
        "        score = 0\n",
        "    return score"
      ],
      "metadata": {
        "id": "XNQ-m1acdgly"
      },
      "execution_count": 11,
      "outputs": []
    },
    {
      "cell_type": "code",
      "source": [
        "# 評価\n",
        "score = evaluate_answer_accuracy(question, response, gold_answers[0])\n",
        "print(score)"
      ],
      "metadata": {
        "colab": {
          "base_uri": "https://localhost:8080/"
        },
        "id": "eeIwnRFhd5fW",
        "outputId": "936efbfd-1918-4129-8a1a-cc855c03a682"
      },
      "execution_count": 69,
      "outputs": [
        {
          "output_type": "stream",
          "name": "stdout",
          "text": [
            "2.0\n"
          ]
        }
      ]
    },
    {
      "cell_type": "markdown",
      "source": [
        "文ごとにsplitを行う"
      ],
      "metadata": {
        "id": "soQiYbyfgmmT"
      }
    },
    {
      "cell_type": "code",
      "source": [
        "from sentence_transformers import SentenceTransformer\n",
        "\n",
        "emb_model = SentenceTransformer(\"infly/inf-retriever-v1-1.5b\", trust_remote_code=True)\n",
        "# In case you want to reduce the maximum length:\n",
        "emb_model.max_seq_length = 8192"
      ],
      "metadata": {
        "id": "SY4N1YJBeAks"
      },
      "execution_count": 14,
      "outputs": []
    },
    {
      "cell_type": "markdown",
      "source": [
        "txtファイル読み込み"
      ],
      "metadata": {
        "id": "_h975UbgUDf8"
      }
    },
    {
      "cell_type": "code",
      "source": [
        "with open(\"/content/SIGGRAPH_2024_物理シミュレーション論文.txt\", \"r\") as f:\n",
        "  raw_writedown = f.read()"
      ],
      "metadata": {
        "id": "jSaCoUr8eeW3"
      },
      "execution_count": 15,
      "outputs": []
    },
    {
      "cell_type": "code",
      "source": [
        "documents = [text.replace(\"\\n\", \" \").strip() for text in raw_writedown.split(\"\\n\")]\n",
        "print(\"ドキュメントサイズ: \", len(documents))\n",
        "print(\"ドキュメントの例: \\n\", documents[5])"
      ],
      "metadata": {
        "colab": {
          "base_uri": "https://localhost:8080/"
        },
        "id": "tKzpeJS-et11",
        "outputId": "b8274506-4c76-48ca-c366-ef32140a0347"
      },
      "execution_count": 16,
      "outputs": [
        {
          "output_type": "stream",
          "name": "stdout",
          "text": [
            "ドキュメントサイズ:  185\n",
            "ドキュメントの例: \n",
            " 採択されたTechnical Papersは、ACM Transactions on Graphics (TOG) のVolume 43, Issue 4 (2024年7月) として出版され、ACM Digital Libraryを通じてアクセス可能です 5。SIGGRAPH 2024のコンテンツは、OpenSurroundプログラムの一環として、ACM Digital Libraryでの公開後30日間は無料で利用可能でした 9。また、SIGGRAPHおよびSIGGRAPH Asiaの会議コンテンツは、通常、会議開始2週間前から終了1週間後までの1ヶ月間、ACM Digital Libraryで無料アクセスが提供されます 10。会議の論文集や関連コンテンツへのアクセスは、モバイルアプリやウェブサイトからも案内されています 9。\n"
          ]
        }
      ]
    },
    {
      "cell_type": "code",
      "source": [
        "# Retrievalの実行\n",
        "questions = [\n",
        "    \"Siggraphとは\",\n",
        "    \"「Cyclogenesis」でシミュレーション対象となる気象現象は何ですか。\",\n",
        "    \"「Primal-Dual Non-Smooth Friction for Rigid Body Animation」が解決を試みている物理的課題は何ですか。\",\n",
        "    \"「Mesh Mortal Combat: Real-Time Voxelized Soft-Body Destruction」は SIGGRAPH 2024 でどの賞を受賞しましたか。\",\n",
        "    \"SIGGRAPH 2024 で Best Paper Award を受賞した研究タイトルは何ですか。また、それはどの分野（流体 / 変形体 / ソルバーなど）に分類されますか。\",\n",
        "    \"機械学習を利用して物理シミュレーションを加速・補強する例を、本文から 2 つ挙げて要点を比較してください。\"\n",
        "  ]\n",
        "\n",
        "\n",
        "query_embeddings = []\n",
        "document_embeddings = []\n",
        "scores = []\n",
        "\n",
        "for i,str in enumerate(questions):\n",
        "  query_embeddings.append(emb_model.encode([questions[i]], prompt_name=\"query\"))\n",
        "  document_embeddings.append(emb_model.encode(documents))\n",
        "  print(questions[i])\n",
        "\n",
        "  # 各ドキュメントの類似度スコア\n",
        "  scores.append((query_embeddings[i] @ document_embeddings[i].T) * 100)\n",
        "  print(f\"question{i+1}:{scores[i].tolist()}\")"
      ],
      "metadata": {
        "colab": {
          "base_uri": "https://localhost:8080/"
        },
        "id": "bKxGZXdfg1bc",
        "outputId": "55e6d930-b25b-4a82-f34b-3e0c8943d9d9"
      },
      "execution_count": 17,
      "outputs": [
        {
          "output_type": "stream",
          "name": "stdout",
          "text": [
            "Siggraphとは\n",
            "question1:[[74.78534698486328, 60.26651382446289, 77.2302474975586, 85.23372650146484, 80.16271209716797, 76.1600112915039, 69.59178161621094, 69.04000091552734, 67.06593322753906, 62.74777603149414, 73.761474609375, 73.68134307861328, 66.54332733154297, 74.7239761352539, 65.7957763671875, 65.66741180419922, 67.91773223876953, 63.129459381103516, 68.39759063720703, 63.84170150756836, 66.51339721679688, 63.913631439208984, 68.15658569335938, 65.19853973388672, 65.44267272949219, 64.85801696777344, 64.80128479003906, 63.759403228759766, 66.40144348144531, 75.98139953613281, 63.48944854736328, 65.15960693359375, 66.73410034179688, 61.17079162597656, 60.06140899658203, 72.1358871459961, 64.26210021972656, 69.74626922607422, 64.54149627685547, 66.37226104736328, 65.07742309570312, 65.55824279785156, 63.28417205810547, 64.65840148925781, 64.82926940917969, 65.24957275390625, 73.82170104980469, 63.40343475341797, 63.27351760864258, 63.121498107910156, 64.39204406738281, 63.91585922241211, 72.0425033569336, 64.72305297851562, 64.8832778930664, 76.22097778320312, 63.178062438964844, 71.12381744384766, 66.00507354736328, 63.350032806396484, 62.141109466552734, 64.55986785888672, 64.53741455078125, 66.3634033203125, 67.6089859008789, 62.58233642578125, 62.17490005493164, 64.87799835205078, 65.48320007324219, 67.14862823486328, 76.00881958007812, 66.09676361083984, 72.41816711425781, 74.10929107666016, 59.657470703125, 59.657470703125, 63.028472900390625, 63.44560241699219, 66.06492614746094, 63.17375946044922, 63.44783401489258, 63.89095687866211, 65.93914031982422, 60.173011779785156, 61.350345611572266, 61.284339904785156, 61.850189208984375, 60.173011779785156, 63.51619338989258, 63.04077911376953, 63.35650634765625, 59.8325080871582, 63.72917938232422, 61.5611686706543, 63.38438415527344, 59.83372497558594, 64.81774139404297, 63.68187713623047, 63.7598762512207, 59.8325080871582, 61.85747528076172, 65.18709564208984, 65.1308364868164, 60.06193161010742, 62.597198486328125, 65.18709564208984, 62.8453254699707, 60.06193161010742, 60.98804473876953, 62.010406494140625, 63.2064094543457, 59.530853271484375, 62.62299346923828, 62.833152770996094, 64.40019226074219, 59.530853271484375, 62.89529037475586, 61.58930206298828, 64.46874237060547, 59.83372497558594, 61.860023498535156, 64.96363830566406, 65.61871337890625, 60.173011779785156, 64.94672393798828, 64.96361541748047, 62.360294342041016, 59.89513397216797, 63.673423767089844, 62.67349624633789, 61.658226013183594, 60.83735656738281, 64.91593170166016, 63.41127014160156, 64.19385528564453, 59.89513397216797, 64.22274017333984, 61.19062423706055, 66.22811126708984, 60.54698181152344, 65.68321228027344, 64.92028045654297, 67.37789154052734, 60.06193161010742, 65.06896209716797, 75.56356048583984, 62.64011764526367, 64.53882598876953, 60.53278350830078, 65.37952423095703, 67.26824188232422, 64.57943725585938, 64.04740905761719, 73.42909240722656, 62.1419563293457, 65.31988525390625, 61.6895866394043, 64.0966796875, 63.375736236572266, 61.56231689453125, 76.41223907470703, 65.45850372314453, 81.16515350341797, 60.14095687866211, 77.77978515625, 73.57762145996094, 75.68257141113281, 75.64016723632812, 73.80751037597656, 72.6460189819336, 73.20836639404297, 73.3414535522461, 73.70598602294922, 73.27555084228516, 64.54440307617188, 72.01612091064453, 70.67926025390625, 74.13780975341797, 74.31270599365234, 74.90431213378906, 65.37355041503906, 73.96087646484375, 76.07808685302734, 62.0139045715332, 74.29580688476562]]\n",
            "「Cyclogenesis」でシミュレーション対象となる気象現象は何ですか。\n",
            "question2:[[69.12034606933594, 59.15885543823242, 63.153221130371094, 64.29364776611328, 66.03190612792969, 60.379783630371094, 69.22807312011719, 68.62691497802734, 66.54261016845703, 61.17271041870117, 68.82862091064453, 68.59245300292969, 69.75102996826172, 69.4757080078125, 72.44075775146484, 68.8603744506836, 79.70909881591797, 64.5008544921875, 64.25155639648438, 63.27829360961914, 68.54463958740234, 60.22431945800781, 68.66499328613281, 64.31272888183594, 68.42284393310547, 65.4873275756836, 66.1280746459961, 66.71141052246094, 69.03681945800781, 66.60355377197266, 59.875606536865234, 66.93805694580078, 65.71928405761719, 59.40382385253906, 58.544795989990234, 68.03465270996094, 62.90444564819336, 62.7150764465332, 66.60921478271484, 65.28701782226562, 62.350547790527344, 66.4113540649414, 62.98542022705078, 64.0599136352539, 66.96163177490234, 65.70207214355469, 67.00608825683594, 63.61467742919922, 65.54361724853516, 61.313968658447266, 61.50730895996094, 67.7087631225586, 65.21675109863281, 65.76560974121094, 59.774993896484375, 69.01934814453125, 61.3098030090332, 67.56209564208984, 65.65533447265625, 64.27730560302734, 65.50768280029297, 60.314022064208984, 65.31523132324219, 59.391902923583984, 64.15872192382812, 63.852752685546875, 65.67373657226562, 63.09674835205078, 65.44332122802734, 63.74806594848633, 64.96200561523438, 65.44246673583984, 68.17062377929688, 68.49237060546875, 54.6706428527832, 54.6706428527832, 57.95085525512695, 68.67178344726562, 58.2188835144043, 60.931819915771484, 75.39552307128906, 63.49024200439453, 72.97982788085938, 58.00163650512695, 62.97694396972656, 61.03419494628906, 63.10345458984375, 58.00163650512695, 60.60647964477539, 61.767173767089844, 61.226165771484375, 58.379207611083984, 63.95182800292969, 58.1904411315918, 63.80038833618164, 58.52301788330078, 62.11996841430664, 60.5163459777832, 59.07461166381836, 58.379207611083984, 58.683895111083984, 61.07655715942383, 67.60486602783203, 58.850074768066406, 57.8246955871582, 61.07655715942383, 66.0882568359375, 58.850074768066406, 58.3125114440918, 61.599708557128906, 61.65119552612305, 58.12984085083008, 57.51731872558594, 60.74186706542969, 62.934696197509766, 58.12984085083008, 58.72625732421875, 59.58717346191406, 59.05411911010742, 58.52301788330078, 59.10936737060547, 58.481197357177734, 57.85350799560547, 58.00163650512695, 59.94065475463867, 58.481224060058594, 59.15972137451172, 58.14995574951172, 59.29194641113281, 59.832237243652344, 61.246742248535156, 58.36112594604492, 64.8255386352539, 60.01453399658203, 59.18006134033203, 58.14995574951172, 60.58690643310547, 57.900299072265625, 60.431396484375, 58.49930191040039, 62.10303497314453, 65.56599426269531, 63.22486877441406, 58.850074768066406, 62.19417953491211, 69.67311096191406, 61.402408599853516, 65.9621353149414, 64.52120208740234, 63.09922409057617, 65.1452407836914, 58.63468551635742, 63.220767974853516, 69.45783233642578, 62.24890899658203, 68.35253143310547, 62.90935134887695, 62.6170654296875, 67.0604248046875, 57.975040435791016, 70.06047821044922, 68.93563079833984, 66.06575775146484, 55.911434173583984, 60.571163177490234, 58.72895050048828, 59.96240997314453, 59.865928649902344, 58.4707145690918, 56.46274185180664, 60.609100341796875, 59.8729248046875, 59.11396789550781, 60.99922561645508, 57.89007568359375, 57.94363021850586, 63.918888092041016, 60.94990539550781, 59.44535827636719, 60.05971908569336, 61.84040832519531, 60.26874923706055, 60.138084411621094, 56.33570098876953, 59.52421569824219]]\n",
            "「Primal-Dual Non-Smooth Friction for Rigid Body Animation」が解決を試みている物理的課題は何ですか。\n",
            "question3:[[73.8458251953125, 66.04449462890625, 70.21556854248047, 68.70590209960938, 72.84947204589844, 68.75231170654297, 75.23213958740234, 75.48306274414062, 76.3340835571289, 65.75611877441406, 73.98615264892578, 75.18629455566406, 74.26458740234375, 72.98884582519531, 71.81867218017578, 73.8707046508789, 71.72596740722656, 73.5946273803711, 74.78314971923828, 73.2756118774414, 76.28358459472656, 74.71353912353516, 76.82672882080078, 68.17593383789062, 74.45791625976562, 72.54363250732422, 74.41558074951172, 73.48173522949219, 74.26530456542969, 75.45423889160156, 67.23194122314453, 77.79696655273438, 74.22506713867188, 69.37871551513672, 65.26602935791016, 74.50428771972656, 72.760498046875, 75.2274398803711, 69.79964447021484, 73.63064575195312, 69.26165771484375, 76.28498077392578, 76.02474975585938, 74.16671752929688, 75.3619384765625, 77.11575317382812, 79.04212951660156, 76.02481842041016, 79.14469909667969, 87.98157501220703, 70.96514129638672, 75.1895751953125, 75.87059783935547, 80.0363540649414, 68.59700775146484, 75.22298431396484, 68.58031463623047, 70.70819091796875, 76.77872467041016, 73.34767150878906, 71.5164566040039, 71.07362365722656, 73.81000518798828, 74.73914337158203, 75.95499420166016, 76.93760681152344, 71.29558563232422, 68.00167846679688, 74.76105499267578, 76.25654602050781, 70.50798797607422, 75.5083236694336, 73.53665161132812, 72.79202270507812, 63.45508575439453, 63.45508575439453, 66.19464111328125, 68.60383605957031, 68.10747528076172, 66.3069076538086, 67.68433380126953, 69.92741394042969, 69.13430786132812, 66.02630615234375, 72.22055053710938, 68.32219696044922, 71.61425018310547, 66.02630615234375, 74.6207504272461, 71.76123809814453, 75.1648178100586, 65.63872528076172, 74.8128433227539, 69.03189849853516, 68.7330093383789, 65.74089813232422, 76.19396209716797, 67.67936706542969, 70.60149383544922, 65.63872528076172, 68.01102447509766, 68.57865142822266, 70.0537338256836, 65.99833679199219, 65.99695587158203, 68.57865142822266, 66.52247619628906, 65.99833679199219, 72.7175064086914, 67.86260223388672, 69.68560028076172, 65.70576477050781, 74.26718139648438, 68.6239242553711, 73.77737426757812, 65.70576477050781, 85.16841125488281, 75.92179870605469, 76.09635925292969, 65.74089813232422, 68.9942855834961, 68.37113189697266, 70.62371826171875, 66.02630615234375, 70.77438354492188, 68.37114715576172, 69.6330795288086, 65.34526062011719, 69.85350799560547, 69.39976501464844, 69.94593048095703, 66.06392669677734, 72.20272827148438, 67.8265609741211, 67.82813262939453, 65.34526062011719, 71.86380767822266, 66.65280151367188, 70.56002807617188, 66.60770416259766, 73.34747314453125, 73.31620788574219, 76.0374526977539, 65.99833679199219, 66.20625305175781, 74.18263244628906, 64.42254638671875, 73.37326049804688, 72.37354278564453, 72.72454833984375, 74.02339172363281, 74.27581787109375, 65.95024108886719, 74.55107879638672, 69.89806365966797, 73.99763488769531, 68.6141586303711, 70.4332504272461, 74.21443939208984, 66.88418579101562, 76.39249420166016, 77.90752410888672, 71.2116928100586, 65.7712173461914, 68.28929901123047, 68.77532196044922, 68.8888168334961, 68.34491729736328, 69.5309829711914, 66.84345245361328, 71.402099609375, 70.89555358886719, 68.83348083496094, 71.47937774658203, 68.59101867675781, 67.35128021240234, 68.66835021972656, 70.22314453125, 69.96002197265625, 68.30484008789062, 78.42906951904297, 70.09819030761719, 67.95381164550781, 67.1642074584961, 69.47553253173828]]\n",
            "「Mesh Mortal Combat: Real-Time Voxelized Soft-Body Destruction」は SIGGRAPH 2024 でどの賞を受賞しましたか。\n",
            "question4:[[79.80260467529297, 65.4087905883789, 79.7109375, 79.57566833496094, 78.58061218261719, 77.75230407714844, 75.14398956298828, 73.5521011352539, 73.27021789550781, 65.1136245727539, 79.2105712890625, 78.91266632080078, 72.64253997802734, 79.17196655273438, 69.79899597167969, 70.88578033447266, 71.09713745117188, 70.49652099609375, 72.84727478027344, 70.8348617553711, 71.5652847290039, 68.50958251953125, 72.91761016845703, 68.51194763183594, 71.67487335205078, 71.24991607666016, 71.46910095214844, 70.4945068359375, 73.46212768554688, 81.30532836914062, 69.23735046386719, 73.26611328125, 72.7666244506836, 68.97055053710938, 67.23774719238281, 80.97360229492188, 70.97667694091797, 85.7971420288086, 70.36346435546875, 76.03237915039062, 69.34977722167969, 71.03771209716797, 70.854736328125, 71.68367767333984, 71.84854125976562, 75.61558532714844, 81.24717712402344, 72.1805419921875, 70.78008270263672, 73.02365112304688, 71.03347778320312, 71.80928802490234, 81.48900604248047, 72.28792572021484, 69.2452392578125, 81.73178100585938, 69.33199310302734, 76.33905029296875, 73.2925033569336, 71.87183380126953, 69.37323760986328, 69.49359130859375, 70.87135314941406, 76.28111267089844, 74.13355255126953, 69.40361022949219, 70.12788391113281, 70.11333465576172, 72.84519958496094, 84.42507934570312, 79.8375244140625, 74.54676818847656, 78.54419708251953, 79.72607421875, 63.263893127441406, 63.263893127441406, 66.9796371459961, 70.09754943847656, 71.4453125, 66.91495513916016, 67.75714111328125, 68.17472076416016, 70.66874694824219, 67.2876205444336, 69.4439468383789, 67.453369140625, 68.85420227050781, 67.2876205444336, 70.9295425415039, 70.07234191894531, 70.55583190917969, 67.68983459472656, 73.63268280029297, 67.41029357910156, 69.47453308105469, 68.88197326660156, 74.36843872070312, 69.64447021484375, 69.51091766357422, 67.68983459472656, 68.19835662841797, 69.40394592285156, 70.66725158691406, 67.16184997558594, 67.22512817382812, 69.40394592285156, 68.64157104492188, 67.16184997558594, 70.04194641113281, 70.33687591552734, 71.03724670410156, 67.06099700927734, 71.11680603027344, 68.64989471435547, 71.80274200439453, 67.06099700927734, 74.10913848876953, 69.83430480957031, 70.24846649169922, 68.88197326660156, 69.72213745117188, 68.04584503173828, 70.62992858886719, 67.2876205444336, 72.21296691894531, 68.04582214355469, 69.20204162597656, 67.33056640625, 78.52204895019531, 72.44384765625, 71.33561706542969, 67.86205291748047, 73.22039031982422, 68.82335662841797, 68.80751037597656, 67.33056640625, 71.45046997070312, 67.31637573242188, 71.14429473876953, 68.168701171875, 74.10356903076172, 72.30157470703125, 73.7804183959961, 67.16184997558594, 67.44084167480469, 80.03653717041016, 65.22106170654297, 70.197265625, 68.94208526611328, 73.03163146972656, 72.21543884277344, 69.10226440429688, 65.57905578613281, 78.83631896972656, 68.65673065185547, 70.43766021728516, 68.7316665649414, 69.12125396728516, 69.57457733154297, 66.78203582763672, 81.50979614257812, 73.32560729980469, 79.7651138305664, 65.99241638183594, 75.47026062011719, 77.90978240966797, 75.44615173339844, 77.44261932373047, 78.06470489501953, 75.71987915039062, 79.73776245117188, 79.13160705566406, 77.92537689208984, 79.56166076660156, 72.20667266845703, 77.36744689941406, 74.6384048461914, 79.12646484375, 78.34415435791016, 77.07853698730469, 73.41600036621094, 78.47395324707031, 76.33465576171875, 70.0434799194336, 78.05426025390625]]\n",
            "SIGGRAPH 2024 で Best Paper Award を受賞した研究タイトルは何ですか。また、それはどの分野（流体 / 変形体 / ソルバーなど）に分類されますか。\n",
            "question5:[[73.60926818847656, 60.27030944824219, 72.76335906982422, 71.3908920288086, 72.55056762695312, 73.62179565429688, 67.1545639038086, 66.3150634765625, 66.27778625488281, 61.932289123535156, 73.92484283447266, 75.86666870117188, 69.27464294433594, 74.16046142578125, 63.73747634887695, 67.44219207763672, 66.70767211914062, 67.8270492553711, 66.72555541992188, 68.0919418334961, 68.0177230834961, 68.63346099853516, 68.94410705566406, 64.38531494140625, 69.16979217529297, 66.89546203613281, 69.1865234375, 68.78195190429688, 70.23177337646484, 75.5986557006836, 63.264442443847656, 68.24974822998047, 67.20240020751953, 63.612205505371094, 59.98591232299805, 71.1104965209961, 65.9334487915039, 71.72840118408203, 63.73900604248047, 66.8219223022461, 62.760562896728516, 66.75839233398438, 67.3724136352539, 65.61711883544922, 70.14530944824219, 67.27131652832031, 71.94866180419922, 64.96903991699219, 63.735233306884766, 67.7923355102539, 63.59873580932617, 63.5096321105957, 75.76866149902344, 65.83895874023438, 63.3463249206543, 77.16378784179688, 63.305938720703125, 68.9249496459961, 68.46656799316406, 65.05477142333984, 62.9744758605957, 68.4362564086914, 66.80791473388672, 74.76388549804688, 69.56800079345703, 65.78545379638672, 64.19452667236328, 62.03972244262695, 66.03436279296875, 71.81512451171875, 72.07905578613281, 66.95906829833984, 72.85333251953125, 74.594482421875, 59.28498458862305, 59.28498458862305, 64.75275421142578, 63.8839111328125, 64.64693450927734, 60.16533279418945, 62.91374969482422, 66.16619873046875, 62.90107345581055, 61.015689849853516, 65.5053939819336, 64.88990783691406, 64.30034637451172, 61.015689849853516, 68.50337982177734, 67.23036193847656, 64.74873352050781, 60.44400405883789, 67.59762573242188, 65.00794982910156, 62.712223052978516, 61.96220397949219, 67.56855010986328, 67.10057067871094, 64.91567993164062, 60.44400405883789, 62.62568283081055, 66.44941711425781, 62.51313018798828, 60.49263000488281, 60.96295166015625, 66.44941711425781, 60.829986572265625, 60.49263000488281, 65.22146606445312, 65.09196472167969, 63.62343978881836, 60.11863327026367, 66.77918243408203, 65.54701232910156, 66.62290954589844, 60.11863327026367, 66.72979736328125, 63.41876983642578, 65.9540786743164, 61.96220397949219, 62.986053466796875, 65.75855255126953, 75.09647369384766, 61.015689849853516, 64.69657897949219, 65.75855255126953, 63.98762893676758, 60.52273941040039, 63.319091796875, 66.37977600097656, 63.74856185913086, 60.35478210449219, 65.60194396972656, 65.50698852539062, 60.89208221435547, 60.52273941040039, 67.50479888916016, 63.69090270996094, 66.59424591064453, 61.725746154785156, 67.1969223022461, 65.88351440429688, 66.58345794677734, 60.49263000488281, 61.77492904663086, 74.1463394165039, 60.82139587402344, 65.17543029785156, 63.06728744506836, 65.11588287353516, 66.97620391845703, 67.80213928222656, 61.69586181640625, 73.24778747558594, 63.175106048583984, 65.4629135131836, 61.479610443115234, 63.94538879394531, 66.26084899902344, 60.82230758666992, 77.5217514038086, 67.76306915283203, 73.73046875, 61.59602355957031, 69.60816192626953, 74.48678588867188, 69.5417251586914, 72.23560333251953, 74.43269348144531, 71.95899963378906, 74.85735321044922, 74.6441421508789, 71.56713104248047, 74.48603820800781, 64.99249267578125, 74.4084701538086, 67.98709869384766, 72.469970703125, 73.97480010986328, 72.52076721191406, 68.41753387451172, 71.6009750366211, 71.57137298583984, 64.22783660888672, 72.76388549804688]]\n",
            "機械学習を利用して物理シミュレーションを加速・補強する例を、本文から 2 つ挙げて要点を比較してください。\n",
            "question6:[[73.62337493896484, 61.374027252197266, 65.22354125976562, 63.24800109863281, 72.90848541259766, 64.50371551513672, 73.83961486816406, 75.7125244140625, 76.91690063476562, 62.98182678222656, 76.83905029296875, 77.55083465576172, 75.58488464355469, 71.44747924804688, 75.71258544921875, 74.60651397705078, 72.53882598876953, 70.83442687988281, 73.59233856201172, 69.43146514892578, 76.18444061279297, 69.31613159179688, 76.37820434570312, 66.5443115234375, 75.85260009765625, 72.6059799194336, 78.57220458984375, 76.14314270019531, 72.4087142944336, 69.3768081665039, 63.338600158691406, 72.07171630859375, 71.78250885009766, 68.90859985351562, 60.66264343261719, 74.25880432128906, 71.0872802734375, 70.83365631103516, 69.79707336425781, 72.62517547607422, 64.80802154541016, 73.60621643066406, 71.07879638671875, 73.65331268310547, 73.824462890625, 73.81458282470703, 73.3284683227539, 69.69316101074219, 73.20146179199219, 70.06834411621094, 68.13365936279297, 76.04956817626953, 70.85704803466797, 74.84066009521484, 62.742469787597656, 76.66329956054688, 73.33091735839844, 80.81881713867188, 74.11290740966797, 77.85294342041016, 80.29358673095703, 68.62776947021484, 79.8031005859375, 69.94586181640625, 75.10144805908203, 74.85322570800781, 78.76785278320312, 66.59423065185547, 75.61622619628906, 73.46730041503906, 68.93478393554688, 75.67384338378906, 73.68184661865234, 76.0823745727539, 61.903892517089844, 61.903892517089844, 62.403564453125, 70.00736999511719, 66.38015747070312, 64.49945068359375, 64.24850463867188, 64.57532501220703, 70.0700454711914, 61.769134521484375, 68.07854461669922, 63.7108268737793, 66.49199676513672, 61.769134521484375, 68.61892700195312, 66.12845611572266, 69.53099822998047, 62.18448257446289, 69.44397735595703, 62.43333053588867, 69.4359359741211, 61.4054069519043, 67.4891128540039, 63.173316955566406, 64.64051055908203, 62.18448257446289, 61.5656623840332, 62.35575866699219, 70.06869506835938, 62.18257141113281, 60.269962310791016, 62.35575866699219, 67.50413513183594, 62.18257141113281, 66.73831939697266, 62.50022506713867, 68.91805267333984, 61.34747314453125, 66.21900177001953, 63.07204818725586, 68.24059295654297, 61.34747314453125, 67.71058654785156, 65.07459259033203, 66.4711685180664, 61.4054069519043, 64.98564147949219, 64.39982604980469, 66.13939666748047, 61.769134521484375, 65.1008529663086, 64.39990997314453, 64.52430725097656, 61.720455169677734, 63.210330963134766, 62.378265380859375, 66.9050064086914, 61.78709411621094, 68.5976333618164, 61.77318572998047, 62.654296875, 61.720455169677734, 66.98328399658203, 62.82402801513672, 69.34219360351562, 62.26557922363281, 67.99564361572266, 69.39037322998047, 70.94232940673828, 62.18257141113281, 61.88053894042969, 75.59231567382812, 60.637508392333984, 72.25603485107422, 83.10277557373047, 75.29931640625, 72.82925415039062, 68.62330627441406, 63.858787536621094, 76.44509887695312, 76.31539916992188, 74.99221801757812, 71.54150390625, 70.0215835571289, 76.84413146972656, 61.19473648071289, 79.8230209350586, 81.17606353759766, 69.64067840576172, 61.354976654052734, 63.97134780883789, 64.5448989868164, 64.5997543334961, 63.541446685791016, 64.87333679199219, 62.40730285644531, 65.8447036743164, 66.0677261352539, 64.5103759765625, 66.17900085449219, 64.50926208496094, 63.746822357177734, 69.64068603515625, 63.8050537109375, 64.40467834472656, 63.84878158569336, 71.38423919677734, 64.83663177490234, 63.46429443359375, 66.16453552246094, 62.473140716552734]]\n"
          ]
        }
      ]
    },
    {
      "cell_type": "code",
      "source": [
        "topk = 5\n",
        "for j in range(len(questions)):\n",
        "  print(f\"question{j+1}: {questions[j]}\")\n",
        "  for i, index in enumerate(scores[j].argsort()[0][::-1][:topk]):\n",
        "    print(f\"取得したドキュメント{i+1}: (Score: {scores[j][0][index]})\")\n",
        "    print(documents[index], \"\\n\")\n",
        "  print(\"\\n\\n\")"
      ],
      "metadata": {
        "colab": {
          "base_uri": "https://localhost:8080/"
        },
        "id": "1u0k3NPkiTYX",
        "outputId": "a224a13f-220d-45c5-cd49-d3a073937397"
      },
      "execution_count": 19,
      "outputs": [
        {
          "output_type": "stream",
          "name": "stdout",
          "text": [
            "question1: Siggraphとは\n",
            "取得したドキュメント1: (Score: 85.23372650146484)\n",
            "SIGGRAPH (Special Interest Group on Computer GRAPHics and Interactive Techniques) は、コンピュータグラフィックス（CG）とインタラクティブ技術に関する世界最高峰の年次会議であり、ACM SIGGRAPHによって開催されています 1。研究者、アーティスト、開発者、映画製作者、科学者、ビジネス専門家など、世界中の数千人のメンバーが集い、デジタルアートとインタラクティブデザインの未来を構築する場となっています 3。2024年の会議は、7月28日から8月1日までコロラド州デンバーで開催されました 1。 \n",
            "\n",
            "取得したドキュメント2: (Score: 81.16515350341797)\n",
            "SIGGRAPHは、これらの最先端の研究成果が発表され、議論される最高峰の場であり 2、その多くはACM Transactions on Graphics (TOG) を通じて学術コミュニティに共有されます 5。SIGGRAPH 2024で示された多岐にわたる進歩は、物理シミュレーションがコンピュータグラフィックスとインタラクティブ技術の未来において、引き続き不可欠な役割を果たしていくことを強く示唆しています。 \n",
            "\n",
            "取得したドキュメント3: (Score: 80.16271209716797)\n",
            "SIGGRAPHのプログラムは広範な分野を網羅しており、アニメーション、シミュレーション、イメージング、ジオメトリ、モデリング、レンダリング、ヒューマンコンピュータインタラクション、ハプティクス、ファブリケーション、ロボティクス、可視化、オーディオ、光学、プログラミング言語、没入型体験、視覚のための機械学習などが含まれます 5。特に、物理シミュレーションは、Technical Papersプログラムにおける重要な研究領域の一つとして位置づけられています 5。エンターテイメント、ゲーム、科学イメージング、医療応用、デザイン、写真、ファッション、建築、コミュニケーション、法医学など、多岐にわたる分野への基礎的アイデアおよび応用的貢献が歓迎されています 6。 \n",
            "\n",
            "取得したドキュメント4: (Score: 77.77978515625)\n",
            "1. SIGGRAPH - Wikipedia, accessed April 14, 2025, https://en.wikipedia.org/wiki/SIGGRAPH \n",
            "\n",
            "取得したドキュメント5: (Score: 77.2302474975586)\n",
            "A. SIGGRAPH 2024の文脈 \n",
            "\n",
            "\n",
            "\n",
            "\n",
            "question2: 「Cyclogenesis」でシミュレーション対象となる気象現象は何ですか。\n",
            "取得したドキュメント1: (Score: 79.70909881591797)\n",
            "\"Cyclogenesis: Simulating Hurricanes and Tornadoes\" 7 は、ハリケーンや竜巻といった大規模な大気現象のシミュレーションに取り組んでおり、これは従来の比較的小規模なVFXにおける流体表現からの大きな飛躍を示唆します。このような現象を再現するには、相転移や熱力学を含む複雑な物理モデルの導入、そして広大な計算領域を扱うための数値的安定性と計算効率の向上が不可欠です。この研究は、グラフィックス研究から派生した技術が、科学的可視化や気候モデリングツールへ応用される可能性を示しています。 \n",
            "\n",
            "取得したドキュメント2: (Score: 75.39552307128906)\n",
            "Cyclogenesis \n",
            "\n",
            "取得したドキュメント3: (Score: 72.97982788085938)\n",
            "大規模気象シミュレーション \n",
            "\n",
            "取得したドキュメント4: (Score: 72.44075775146484)\n",
            "A. 複雑・大規模現象のシミュレーション \n",
            "\n",
            "取得したドキュメント5: (Score: 70.06047821044922)\n",
            "SIGGRAPH 2024は、物理シミュレーション分野における活発な研究開発と目覚ましい進歩を改めて示す場となりました。本レポートでは、流体、変形体、剛体といった主要なシミュレーション対象における最新の研究成果、機械学習の統合、コアとなるアルゴリズムやソルバーの革新、そしてリアルタイム性能の追求といった横断的なテーマを分析しました。 \n",
            "\n",
            "\n",
            "\n",
            "\n",
            "question3: 「Primal-Dual Non-Smooth Friction for Rigid Body Animation」が解決を試みている物理的課題は何ですか。\n",
            "取得したドキュメント1: (Score: 87.98157501220703)\n",
            "\"Primal–Dual Non-Smooth Friction for Rigid Body Animation\" 14 は、この課題に対する洗練されたアプローチを提案しています。この研究では、制約付き最適化問題で一般的に用いられる主双対法（primal-dual methods）のような最適化技術を活用し、クーロン摩擦モデルのような非平滑な摩擦法則をより正確かつ安定的に扱おうとしていると考えられます。単純化された摩擦近似と比較して、より物理的に妥当な結果をもたらすことが期待されます。 \n",
            "\n",
            "取得したドキュメント2: (Score: 85.16841125488281)\n",
            "Primal–Dual Non-Smooth Friction for Rigid Body Animation \n",
            "\n",
            "取得したドキュメント3: (Score: 80.0363540649414)\n",
            "摩擦や接触といった基礎的な要素が、数十年にわたる研究にもかかわらず、依然として活発な研究対象であり続けているという事実は、これらの現象に固有の困難さと、複雑で大規模な、多数の相互作用オブジェクトを含むシミュレーションにおいて、継続的な革新が必要であることを物語っています。これらの基礎的な課題に対する改善は、アニメーション、ロボティクス、エンジニアリングシミュレーションなど、広範な分野に波及効果をもたらします。 \n",
            "\n",
            "取得したドキュメント4: (Score: 79.14469909667969)\n",
            "現実的な摩擦のシミュレーションは、物体の挙動に大きな影響を与えるにもかかわらず、その不連続で非平滑な性質のために依然として困難な課題です。 \n",
            "\n",
            "取得したドキュメント5: (Score: 79.04212951660156)\n",
            "多数の剛体が相互作用するシーンのシミュレーションは、アニメーション、ゲーム、ロボティクスシミュレーションの基礎となります。SIGGRAPH 2024では、特に摩擦モデリングと、シミュレーション全体のロバスト性・精度向上に関する進展が見られました。 \n",
            "\n",
            "\n",
            "\n",
            "\n",
            "question4: 「Mesh Mortal Combat: Real-Time Voxelized Soft-Body Destruction」は SIGGRAPH 2024 でどの賞を受賞しましたか。\n",
            "取得したドキュメント1: (Score: 85.7971420288086)\n",
            "一方、リアルタイムアプリケーション向けの破壊表現も進化しています。\"Mesh Mortal Combat: Real-Time Voxelized Soft-Body Destruction\" 18 は、SIGGRAPH 2024のReal-Time Live!でBest in Showを受賞したデモンストレーションであり、リアルタイムでの破壊表現における顕著な進歩を示しました。この技術は、トポロジー変化や損傷表現を容易にするボクセル化と、効率的なシミュレーションを実現する位置ベース動力学（PBD）を組み合わせることで、ソフトボディの引き裂きや破壊をリアルタイムで実現しています。 \n",
            "\n",
            "取得したドキュメント2: (Score: 84.42507934570312)\n",
            "前述の \"Mesh Mortal Combat: Real-Time Voxelized Soft-Body Destruction\" (18) は、ソフトボディの破壊という複雑な現象をリアルタイムで実現し、Real-Time Live! アワードを受賞したことで、この分野の進歩を象徴しています。また、リアルタイムの髪シミュレーション 15 や、並列処理に適したソルバー \"Vertex Block Descent\" 15 も、パフォーマンスを重視した開発の例です。 \n",
            "\n",
            "取得したドキュメント3: (Score: 81.73178100585938)\n",
            "特定のシミュレーション対象（流体、変形体、剛体）に限定されず、分野全体に影響を与える横断的なテーマや技術もSIGGRAPH 2024で注目されました。特に、機械学習の統合、新しいソルバーと最適化手法、そしてリアルタイム性能の追求が顕著でした。 \n",
            "\n",
            "取得したドキュメント4: (Score: 81.50979614257812)\n",
            "SIGGRAPH 2024は、物理シミュレーション分野における活発な研究開発と目覚ましい進歩を改めて示す場となりました。本レポートでは、流体、変形体、剛体といった主要なシミュレーション対象における最新の研究成果、機械学習の統合、コアとなるアルゴリズムやソルバーの革新、そしてリアルタイム性能の追求といった横断的なテーマを分析しました。 \n",
            "\n",
            "取得したドキュメント5: (Score: 81.48900604248047)\n",
            "SIGGRAPH 2024では、Zachary Ferguson氏の博士論文 \"Provably Robust and Accurate Methods for Rigid and Deformable Simulation with Contact\" に対してOutstanding Doctoral Dissertation Awardが授与されました 19。この論文自体はSIGGRAPH 2024の発表論文ではありませんが、この受賞は、接触を含む剛体および変形体のためのロバストで正確なシミュレーション手法の開発が、コミュニティによって依然として重要かつ挑戦的な研究課題として認識されていることを明確に示しています。 \n",
            "\n",
            "\n",
            "\n",
            "\n",
            "question5: SIGGRAPH 2024 で Best Paper Award を受賞した研究タイトルは何ですか。また、それはどの分野（流体 / 変形体 / ソルバーなど）に分類されますか。\n",
            "取得したドキュメント1: (Score: 77.5217514038086)\n",
            "SIGGRAPH 2024は、物理シミュレーション分野における活発な研究開発と目覚ましい進歩を改めて示す場となりました。本レポートでは、流体、変形体、剛体といった主要なシミュレーション対象における最新の研究成果、機械学習の統合、コアとなるアルゴリズムやソルバーの革新、そしてリアルタイム性能の追求といった横断的なテーマを分析しました。 \n",
            "\n",
            "取得したドキュメント2: (Score: 77.16378784179688)\n",
            "特定のシミュレーション対象（流体、変形体、剛体）に限定されず、分野全体に影響を与える横断的なテーマや技術もSIGGRAPH 2024で注目されました。特に、機械学習の統合、新しいソルバーと最適化手法、そしてリアルタイム性能の追求が顕著でした。 \n",
            "\n",
            "取得したドキュメント3: (Score: 75.86666870117188)\n",
            "レポートの構成は以下の通りです。まず、流体シミュレーション（セクションII）、変形体シミュレーション（セクションIII）、剛体および接触シミュレーション（セクションIV）における個別の進展を詳述します。次に、機械学習の統合、新しいソルバー、リアルタイム性能といった、分野横断的なテーマと技術（セクションV）について議論します。続いて、SIGGRAPH 2024で示された主要なトレンドと将来の展望（セクションVI）を統合的に考察し、最後に結論（セクションVII）として全体を総括します。この構成は、物理シミュレーション内のサブトピックごとに整理し、新たな技術をハイライトするというユーザーの要求に沿ったものです。 \n",
            "\n",
            "取得したドキュメント4: (Score: 75.76866149902344)\n",
            "SIGGRAPH 2024では、Zachary Ferguson氏の博士論文 \"Provably Robust and Accurate Methods for Rigid and Deformable Simulation with Contact\" に対してOutstanding Doctoral Dissertation Awardが授与されました 19。この論文自体はSIGGRAPH 2024の発表論文ではありませんが、この受賞は、接触を含む剛体および変形体のためのロバストで正確なシミュレーション手法の開発が、コミュニティによって依然として重要かつ挑戦的な研究課題として認識されていることを明確に示しています。 \n",
            "\n",
            "取得したドキュメント5: (Score: 75.5986557006836)\n",
            "布、シェル、髪、その他の柔軟な物体のシミュレーションは、キャラクターアニメーションやデジタルファッション、VFXにおいて不可欠です。SIGGRAPH 2024では、これらの変形体のリアリズム、効率性、そして破壊といった複雑な現象の扱いに焦点を当てた研究が発表されました。 \n",
            "\n",
            "\n",
            "\n",
            "\n",
            "question6: 機械学習を利用して物理シミュレーションを加速・補強する例を、本文から 2 つ挙げて要点を比較してください。\n",
            "取得したドキュメント1: (Score: 83.10277557373047)\n",
            "2. 物理と機械学習の相乗効果: 機械学習は、単にデータ駆動型シミュレーションを行うだけでなく、物理ベースモデルを補強、制御、加速するためのツールとして戦略的に統合されています 2。このハイブリッドアプローチは、両者の長所を活かす有望な方向性です。 \n",
            "\n",
            "取得したドキュメント2: (Score: 81.17606353759766)\n",
            "特に、ハリケーンのような大規模現象や乱流、破壊といった複雑な物理の再現、編み物のような特定構造のモデリングなど、リアリズムの限界を押し広げる試みが続けられています。同時に、機械学習技術が物理ベースの手法を補完・強化し、制御性や効率性を向上させるための重要なツールとして定着しつつあります。リアルタイム性能への要求は依然として高く、インタラクティブアプリケーションにおける物理シミュレーションの可能性を広げています。また、摩擦や接触といった基礎的な課題に対するアルゴリズムレベルでの革新も継続しており、分野全体の基盤を強化しています。 \n",
            "\n",
            "取得したドキュメント3: (Score: 80.81881713867188)\n",
            "機械学習（ML）は、コンピュータグラフィックスの多くの分野に浸透しており、物理シミュレーションも例外ではありません。SIGGRAPH 2024では、MLが物理シミュレーションパイプラインに統合され、従来の手法を補完、加速、あるいは制御するために利用される例が数多く見られました。 \n",
            "\n",
            "取得したドキュメント4: (Score: 80.29358673095703)\n",
            "NVIDIAの研究発表でも、シミュレーション研究がAIモデルを改善し、逆にAIモデルがシミュレーション技術を向上させるという、AIとシミュレーションの相乗効果が強調されています 13。これらの事例が示す重要な点は、MLが物理シミュレーションを完全に置き換えるのではなく、むしろ伝統的な物理ベースの手法が苦手とする部分（制御、高速化、複雑な境界条件、物理 правдоподобный な入力生成など）を補強・拡張するために戦略的に利用されているということです。この物理モデルとデータ駆動型ML技術の相乗的な統合は、今後のシミュレーションツールの開発における主要な方向性となるでしょう。 \n",
            "\n",
            "取得したドキュメント5: (Score: 79.8230209350586)\n",
            "SIGGRAPH 2024は、物理シミュレーション分野における活発な研究開発と目覚ましい進歩を改めて示す場となりました。本レポートでは、流体、変形体、剛体といった主要なシミュレーション対象における最新の研究成果、機械学習の統合、コアとなるアルゴリズムやソルバーの革新、そしてリアルタイム性能の追求といった横断的なテーマを分析しました。 \n",
            "\n",
            "\n",
            "\n",
            "\n"
          ]
        }
      ]
    },
    {
      "cell_type": "code",
      "source": [
        "normal_responses = []\n",
        "system_prompt = \"質問に回答してください。必ず「日本語で回答」すること。また、与えられる資料を参考にして回答すること。\"\n",
        "\n",
        "for j in range(len(questions)):\n",
        "  question =  f\"[質問]{questions[j]}\"\n",
        "  normal_responses.append(generate_output(question, system_prompt))"
      ],
      "metadata": {
        "colab": {
          "base_uri": "https://localhost:8080/"
        },
        "id": "-WGFM35Zoo1R",
        "outputId": "5291621b-8e60-48e9-fef3-6ba51cb17338"
      },
      "execution_count": 21,
      "outputs": [
        {
          "output_type": "stream",
          "name": "stderr",
          "text": [
            "/usr/local/lib/python3.11/dist-packages/transformers/generation/configuration_utils.py:631: UserWarning: `do_sample` is set to `False`. However, `temperature` is set to `0.6` -- this flag is only used in sample-based generation modes. You should set `do_sample=True` or unset `temperature`.\n",
            "  warnings.warn(\n",
            "/usr/local/lib/python3.11/dist-packages/transformers/generation/configuration_utils.py:636: UserWarning: `do_sample` is set to `False`. However, `top_p` is set to `0.9` -- this flag is only used in sample-based generation modes. You should set `do_sample=True` or unset `top_p`.\n",
            "  warnings.warn(\n",
            "The attention mask and the pad token id were not set. As a consequence, you may observe unexpected behavior. Please pass your input's `attention_mask` to obtain reliable results.\n",
            "Setting `pad_token_id` to `eos_token_id`:128009 for open-end generation.\n",
            "The attention mask and the pad token id were not set. As a consequence, you may observe unexpected behavior. Please pass your input's `attention_mask` to obtain reliable results.\n",
            "Setting `pad_token_id` to `eos_token_id`:128009 for open-end generation.\n",
            "The attention mask and the pad token id were not set. As a consequence, you may observe unexpected behavior. Please pass your input's `attention_mask` to obtain reliable results.\n",
            "Setting `pad_token_id` to `eos_token_id`:128009 for open-end generation.\n",
            "The attention mask and the pad token id were not set. As a consequence, you may observe unexpected behavior. Please pass your input's `attention_mask` to obtain reliable results.\n",
            "Setting `pad_token_id` to `eos_token_id`:128009 for open-end generation.\n",
            "The attention mask and the pad token id were not set. As a consequence, you may observe unexpected behavior. Please pass your input's `attention_mask` to obtain reliable results.\n",
            "Setting `pad_token_id` to `eos_token_id`:128009 for open-end generation.\n",
            "The attention mask and the pad token id were not set. As a consequence, you may observe unexpected behavior. Please pass your input's `attention_mask` to obtain reliable results.\n",
            "Setting `pad_token_id` to `eos_token_id`:128009 for open-end generation.\n"
          ]
        }
      ]
    },
    {
      "cell_type": "code",
      "source": [
        "references = []\n",
        "rag_responses = []\n",
        "system_prompt = \"質問に回答してください。必ず「日本語で回答」すること。また、与えられる資料を参考にして回答すること。\"\n",
        "\n",
        "for j in range(len(questions)):\n",
        "  references.append(\"\\n\".join([\"* \" + documents[i] for i in scores[j].argsort()[0][::-1][:topk]]))\n",
        "  question =  f\"[参考資料]\\n{references[j]}\\n\\n[質問]{questions[j]}\"\n",
        "  rag_responses.append(generate_output(question, system_prompt))"
      ],
      "metadata": {
        "id": "9_P7WP8uj3Au",
        "colab": {
          "base_uri": "https://localhost:8080/"
        },
        "outputId": "77af1827-3e7c-47a8-dfe8-fdadbdbddfc7"
      },
      "execution_count": 20,
      "outputs": [
        {
          "output_type": "stream",
          "name": "stderr",
          "text": [
            "/usr/local/lib/python3.11/dist-packages/transformers/generation/configuration_utils.py:631: UserWarning: `do_sample` is set to `False`. However, `temperature` is set to `0.6` -- this flag is only used in sample-based generation modes. You should set `do_sample=True` or unset `temperature`.\n",
            "  warnings.warn(\n",
            "/usr/local/lib/python3.11/dist-packages/transformers/generation/configuration_utils.py:636: UserWarning: `do_sample` is set to `False`. However, `top_p` is set to `0.9` -- this flag is only used in sample-based generation modes. You should set `do_sample=True` or unset `top_p`.\n",
            "  warnings.warn(\n",
            "The attention mask and the pad token id were not set. As a consequence, you may observe unexpected behavior. Please pass your input's `attention_mask` to obtain reliable results.\n",
            "Setting `pad_token_id` to `eos_token_id`:128009 for open-end generation.\n",
            "The attention mask and the pad token id were not set. As a consequence, you may observe unexpected behavior. Please pass your input's `attention_mask` to obtain reliable results.\n",
            "Setting `pad_token_id` to `eos_token_id`:128009 for open-end generation.\n",
            "The attention mask and the pad token id were not set. As a consequence, you may observe unexpected behavior. Please pass your input's `attention_mask` to obtain reliable results.\n",
            "Setting `pad_token_id` to `eos_token_id`:128009 for open-end generation.\n",
            "The attention mask and the pad token id were not set. As a consequence, you may observe unexpected behavior. Please pass your input's `attention_mask` to obtain reliable results.\n",
            "Setting `pad_token_id` to `eos_token_id`:128009 for open-end generation.\n",
            "The attention mask and the pad token id were not set. As a consequence, you may observe unexpected behavior. Please pass your input's `attention_mask` to obtain reliable results.\n",
            "Setting `pad_token_id` to `eos_token_id`:128009 for open-end generation.\n",
            "The attention mask and the pad token id were not set. As a consequence, you may observe unexpected behavior. Please pass your input's `attention_mask` to obtain reliable results.\n",
            "Setting `pad_token_id` to `eos_token_id`:128009 for open-end generation.\n"
          ]
        }
      ]
    },
    {
      "cell_type": "code",
      "source": [
        "for i in range(len(questions)):\n",
        "  print(f\"question{i+1}:{questions[i]}\\n\")\n",
        "  print(f\"normal_response:\\n {normal_responses[i]}\\n\")\n",
        "  print(f\"rag_response:\\n {rag_responses[i]}\\n\")\n",
        "  for j in range(50):\n",
        "    print(\"---\",end = \"\")\n",
        "  print(\"\\n\")"
      ],
      "metadata": {
        "colab": {
          "base_uri": "https://localhost:8080/"
        },
        "id": "C1yv83YwU1Yc",
        "outputId": "c84fa13a-dff7-4017-cfb7-6787c305b871"
      },
      "execution_count": 22,
      "outputs": [
        {
          "output_type": "stream",
          "name": "stdout",
          "text": [
            "question1:Siggraphとは\n",
            "\n",
            "normal_response:\n",
            " Siggraphは、コンピュータグラフィックス（CG）や計算機科学の分野で最も権威のある国際会議の1つです。Siggraphは、Annual Conference on Computer Graphics and Interactive Techniquesの略称で、毎年夏に開催されます。\n",
            "\n",
            "Siggraphは、1969年に始まり、以来、CGや計算機科学の分野で最も重要な会議の1つとなっています。会議では、CGの最新の技術や研究結果、計算機科学の新しい発展など、世界中の研究者や業界の専門家が参加し、発表や討論を行うことができます。\n",
            "\n",
            "Siggraphには、多くのセッションやワークショップが開催されます。例えば、CGの新しい技術やアプリケーション、計算機科学の新しい発展や研究結果、VR/ARやゲームの最新の技術など、幅広い分野にわたるトピックが討論されます。\n",
            "\n",
            "また、Siggraphには、賞や認定もあります。例えば、Best Paper AwardやBest Student Paper Awardなど、優秀な研究結果や学生の研究成果に対して授与される賞があります。\n",
            "\n",
            "Siggraphは、CGや計算機科学の分野で最も権威のある会議の1つであり、世界中の研究者や業界の専門家が参加し、最新の技術や研究結果を共有する場として、非常に重要な役割を果たしています。\n",
            "\n",
            "rag_response:\n",
            " Siggraphは、コンピュータグラフィックス（CG）とインタラクティブ技術に関する世界最高峰の年次会議です。ACM SIGGRAPHによって開催され、研究者、アーティスト、開発者、映画製作者、科学者、ビジネス専門家など、世界中の数千人のメンバーが集い、デジタルアートとインタラクティブデザインの未来を構築する場となっています。\n",
            "\n",
            "------------------------------------------------------------------------------------------------------------------------------------------------------\n",
            "\n",
            "question2:「Cyclogenesis」でシミュレーション対象となる気象現象は何ですか。\n",
            "\n",
            "normal_response:\n",
            " Cyclogenesis（サイクロジェネシス）は、低気圧（ローロウ）が形成される過程を指します。シミュレーション対象となる気象現象として、以下のようなものが挙げられます。\n",
            "\n",
            "1. 低気圧の形成：高気圧の弱い部分で、温暖な空気が上昇し、冷たい空気が下降することで、低気圧が形成されます。\n",
            "2. 低気圧の強化：低気圧が形成された後、風の流れや温暖な空気の上昇によって、強化されます。\n",
            "3. 低気圧の移動：低気圧は、風の流れに伴って移動します。\n",
            "4. 低気圧の変化：低気圧が移動する過程で、形状や強度が変化します。\n",
            "\n",
            "Cyclogenesisのシミュレーションでは、気象衛星画像や気象観測データを基に、低気圧の形成、強化、移動、変化を再現することが目指されます。\n",
            "\n",
            "rag_response:\n",
            " 「Cyclogenesis」でシミュレーション対象となる気象現象は、ハリケーンや竜巻のような大規模な大気現象です。\n",
            "\n",
            "------------------------------------------------------------------------------------------------------------------------------------------------------\n",
            "\n",
            "question3:「Primal-Dual Non-Smooth Friction for Rigid Body Animation」が解決を試みている物理的課題は何ですか。\n",
            "\n",
            "normal_response:\n",
            " 「Primal-Dual Non-Smooth Friction for Rigid Body Animation」は、剛体アニメーション（Rigid Body Animation）において、非-smoothな摩擦（Friction）を考慮する物理的課題を解決することを目指しています。\n",
            "\n",
            "この研究は、剛体アニメーションにおいて、摩擦力が生じる現象を正しくモデル化することを目指しています。特に、非-smoothな摩擦力（Non-Smooth Friction）が生じる現象を考慮することで、より実際的なアニメーション結果を得ることを目指しています。\n",
            "\n",
            "非-smoothな摩擦力とは、摩擦力が突然に変化する現象を指します。このような非-smoothな摩擦力は、実際の世界では頻繁に発生します。例えば、車輪が滑る際や、足が滑る際など、摩擦力が突然に変化する現象が発生します。\n",
            "\n",
            "この研究では、Primal-Dual法を用いて、非-smoothな摩擦力をモデル化し、剛体アニメーションにおいて実際的な結果を得ることを目指しています。Primal-Dual法は、線形計画問題（Linear Programming Problem）を解決するためのアルゴリズムです。このアルゴリズムを用いて、非-smoothな摩擦力が生じる現象を正しくモデル化し、剛体アニメーションにおいて実際的な結果を得ることを目指しています。\n",
            "\n",
            "rag_response:\n",
            " 「Primal-Dual Non-Smooth Friction for Rigid Body Animation」が解決を試みている物理的課題は、非平滑な摩擦法則をより正確かつ安定的に扱うことです。具体的には、クーロン摩擦モデルのような非平滑な摩擦法則を、制約付き最適化問題で一般的に用いられる主双対法（primal-dual methods）を活用して、より物理的に妥当な結果をもたらすことを目指しています。\n",
            "\n",
            "------------------------------------------------------------------------------------------------------------------------------------------------------\n",
            "\n",
            "question4:「Mesh Mortal Combat: Real-Time Voxelized Soft-Body Destruction」は SIGGRAPH 2024 でどの賞を受賞しましたか。\n",
            "\n",
            "normal_response:\n",
            " 日本語で回答します。\n",
            "\n",
            "SIGGRAPH 2024で「Mesh Mortal Combat: Real-Time Voxelized Soft-Body Destruction」は、Best in Show Awardを受賞しました。\n",
            "\n",
            "rag_response:\n",
            " 「Mesh Mortal Combat: Real-Time Voxelized Soft-Body Destruction」は、SIGGRAPH 2024のReal-Time Live!でBest in Showを受賞しました。\n",
            "\n",
            "------------------------------------------------------------------------------------------------------------------------------------------------------\n",
            "\n",
            "question5:SIGGRAPH 2024 で Best Paper Award を受賞した研究タイトルは何ですか。また、それはどの分野（流体 / 変形体 / ソルバーなど）に分類されますか。\n",
            "\n",
            "normal_response:\n",
            " SIGGRAPH 2024のBest Paper Awardは、2023年6月に発表された「Real-time Simulation of Water-Wave Interactions using a Physics-Informed Neural Network」によって受賞されました。この研究は、流体力学（Fluid Dynamics）に分類されます。\n",
            "\n",
            "この研究では、物理的法則に基づくニューラルネットワーク（Physics-Informed Neural Network、PINN）を使用して、水波と水面の相互作用をリアルタイムでシミュレートすることを目指しています。PINNは、物理的法則を満たすように設計されたニューラルネットワークであり、実験的なデータや物理的法則を組み合わせて、より正確なシミュレーションを実現することができます。\n",
            "\n",
            "この研究は、SIGGRAPH 2024のBest Paper Awardを受賞したことで、CG（Computer Graphics）や流体力学の分野で大きな注目を浴びています。\n",
            "\n",
            "rag_response:\n",
            " SIGGRAPH 2024 で Best Paper Award を受賞した研究タイトルは、\"Provably Robust and Accurate Methods for Rigid and Deformable Simulation with Contact\" です。\n",
            "\n",
            "この研究は、剛体および変形体のためのロバストで正確なシミュレーション手法の開発に焦点を当てたもので、接触を含むシミュレーションに対する研究です。したがって、この研究は変形体シミュレーション（Section III）に分類されます。\n",
            "\n",
            "------------------------------------------------------------------------------------------------------------------------------------------------------\n",
            "\n",
            "question6:機械学習を利用して物理シミュレーションを加速・補強する例を、本文から 2 つ挙げて要点を比較してください。\n",
            "\n",
            "normal_response:\n",
            " I'd be happy to help you with that. Here are two examples of using machine learning to accelerate and enhance physical simulations, along with a comparison of their key points:\n",
            "\n",
            "**Example 1: Physics-Informed Neural Networks (PINNs)**\n",
            "\n",
            "* Researchers at the University of California, Berkeley, used PINNs to accelerate the simulation of fluid flow in a pipe. PINNs are a type of neural network that incorporates physical laws, such as the Navier-Stokes equations, into the network's architecture.\n",
            "* The researchers trained the PINN to predict the velocity and pressure fields of the fluid flow, and then used the network to simulate the flow in a pipe with a complex geometry.\n",
            "* The results showed that the PINN-based simulation was faster and more accurate than traditional finite element method (FEM) simulations.\n",
            "\n",
            "Key points:\n",
            "\n",
            "* PINNs can be used to accelerate simulations by reducing the computational cost and increasing the accuracy of the results.\n",
            "* PINNs can be used to simulate complex physical systems that are difficult to model using traditional methods.\n",
            "\n",
            "**Example 2: Generative Adversarial Networks (GANs) for Turbulent Flow Simulation**\n",
            "\n",
            "* Researchers at the University of Tokyo used GANs to accelerate the simulation of turbulent flow in a channel. GANs are a type of neural network that consists of two components: a generator and a discriminator.\n",
            "* The generator was trained to generate synthetic turbulent flow data that was indistinguishable from real data, while the discriminator was trained to distinguish between real and synthetic data.\n",
            "* The results showed that the GAN-based simulation was faster and more accurate than traditional Reynolds-averaged Navier-Stokes (RANS) simulations.\n",
            "\n",
            "Key points:\n",
            "\n",
            "* GANs can be used to generate synthetic data that can be used to train and validate machine learning models for physical simulations.\n",
            "* GANs can be used to accelerate simulations by reducing the computational cost and increasing the accuracy of the results.\n",
            "\n",
            "Comparison of the two examples:\n",
            "\n",
            "* Both PINNs and GANs are used to accelerate and enhance physical simulations, but they use different approaches to achieve this goal.\n",
            "* PINNs are used to directly simulate the physical system, while GANs are used to generate synthetic data that can be used to train and validate machine learning models for physical simulations.\n",
            "* Both methods have the potential to significantly reduce the computational cost and increase the accuracy of physical simulations, but they may require different levels of expertise and resources to implement.\n",
            "\n",
            "I hope this helps! Let me know if you have any further questions.\n",
            "\n",
            "rag_response:\n",
            " 本文から2つの例を挙げます。\n",
            "\n",
            "例1: SIGGRAPH 2024でのMLが物理シミュレーションパイプラインに統合された例\n",
            "\n",
            "この例では、MLが物理シミュレーションパイプラインに統合され、従来の手法を補完、加速、あるいは制御するために利用されたと述べられています。MLは、物理ベースの手法が苦手とする部分（制御、高速化、複雑な境界条件、物理的入力生成など）を補強・拡張するために戦略的に利用されました。\n",
            "\n",
            "例2: NVIDIAの研究発表でのAIモデルとシミュレーションの相乗効果\n",
            "\n",
            "この例では、AIモデルがシミュレーション技術を向上させるという相乗効果が強調されています。AIモデルは、物理ベースの手法が苦手とする部分を補強・拡張するために戦略的に利用されました。同時に、シミュレーション技術は、AIモデルを改善するために利用されました。\n",
            "\n",
            "比較点：\n",
            "\n",
            "* 両例では、MLが物理ベースの手法を補強・拡張するために戦略的に利用されました。\n",
            "* 両例では、MLが物理シミュレーションパイプラインに統合され、従来の手法を補完、加速、あるいは制御するために利用されたと述べられています。\n",
            "* 両例では、AIモデルがシミュレーション技術を向上させるという相乗効果が強調されています。\n",
            "* 両例では、物理ベースの手法が苦手とする部分を補強・拡張するために戦略的に利用されました。\n",
            "\n",
            "以上、2つの例を挙げて比較した結果、MLが物理ベースの手法を補強・拡張するために戦略的に利用され、AIモデルがシミュレーション技術を向上させるという相乗効果が強調されていることがわかります。\n",
            "\n",
            "------------------------------------------------------------------------------------------------------------------------------------------------------\n",
            "\n"
          ]
        }
      ]
    },
    {
      "cell_type": "code",
      "source": [
        "# 評価の実行\n",
        "for i in range(len(questions)):\n",
        "    accuracy_score = evaluate_answer_accuracy(questions[i], normal_responses[i], gold_answers[i])\n",
        "    completeness_score = evaluate_answer_completeness(questions[i], normal_responses[i], gold_answers[i])\n",
        "    relevance_score = evaluate_answer_relevance(questions[i], normal_responses[i])\n",
        "\n",
        "    print(f\"Question {i+1}: {questions[i]}\")\n",
        "    print(f\"- Normal Response Accuracy: {accuracy_score}\")\n",
        "    print(f\"- Normal Response Completeness: {completeness_score}\")\n",
        "    print(f\"- Normal Response Relevance: {relevance_score}\")\n",
        "\n",
        "    accuracy_score_rag = evaluate_answer_accuracy(questions[i], rag_responses[i], gold_answers[i])\n",
        "    completeness_score_rag = evaluate_answer_completeness(questions[i], rag_responses[i], gold_answers[i])\n",
        "    relevance_score_rag = evaluate_answer_relevance(questions[i], rag_responses[i])\n",
        "\n",
        "    print(f\"- RAG Response Accuracy: {accuracy_score_rag}\")\n",
        "    print(f\"- RAG Response Completeness: {completeness_score_rag}\")\n",
        "    print(f\"- RAG Response Relevance: {relevance_score_rag}\")\n",
        "    print(\"-\" * 50)\n"
      ],
      "metadata": {
        "colab": {
          "base_uri": "https://localhost:8080/"
        },
        "id": "gmLj5alCVO5-",
        "outputId": "1bfaea88-7c54-484d-9387-439c3f2857c7"
      },
      "execution_count": 23,
      "outputs": [
        {
          "output_type": "stream",
          "name": "stdout",
          "text": [
            "Question 1: Siggraphとは\n",
            "- Normal Response Accuracy: 1.0\n",
            "- Normal Response Completeness: 2\n",
            "- Normal Response Relevance: 4\n",
            "- RAG Response Accuracy: 2.0\n",
            "- RAG Response Completeness: 2\n",
            "- RAG Response Relevance: 4\n",
            "--------------------------------------------------\n",
            "Question 2: 「Cyclogenesis」でシミュレーション対象となる気象現象は何ですか。\n",
            "- Normal Response Accuracy: 1.0\n",
            "- Normal Response Completeness: 0\n",
            "- Normal Response Relevance: 4\n",
            "- RAG Response Accuracy: 4.0\n",
            "- RAG Response Completeness: 4\n",
            "- RAG Response Relevance: 4\n",
            "--------------------------------------------------\n",
            "Question 3: 「Primal-Dual Non-Smooth Friction for Rigid Body Animation」が解決を試みている物理的課題は何ですか。\n",
            "- Normal Response Accuracy: 1.0\n",
            "- Normal Response Completeness: 2\n",
            "- Normal Response Relevance: 4\n",
            "- RAG Response Accuracy: 2.0\n",
            "- RAG Response Completeness: 2\n",
            "- RAG Response Relevance: 4\n",
            "--------------------------------------------------\n",
            "Question 4: 「Mesh Mortal Combat: Real-Time Voxelized Soft-Body Destruction」は SIGGRAPH 2024 でどの賞を受賞しましたか。\n",
            "- Normal Response Accuracy: 3.0\n",
            "- Normal Response Completeness: 4\n",
            "- Normal Response Relevance: 4\n",
            "- RAG Response Accuracy: 4.0\n",
            "- RAG Response Completeness: 4\n",
            "- RAG Response Relevance: 4\n",
            "--------------------------------------------------\n",
            "Question 5: SIGGRAPH 2024 で Best Paper Award を受賞した研究タイトルは何ですか。また、それはどの分野（流体 / 変形体 / ソルバーなど）に分類されますか。\n",
            "- Normal Response Accuracy: 0.0\n",
            "- Normal Response Completeness: 0\n",
            "- Normal Response Relevance: 4\n",
            "- RAG Response Accuracy: 0.0\n",
            "- RAG Response Completeness: 0\n",
            "- RAG Response Relevance: 4\n",
            "--------------------------------------------------\n",
            "Question 6: 機械学習を利用して物理シミュレーションを加速・補強する例を、本文から 2 つ挙げて要点を比較してください。\n",
            "- Normal Response Accuracy: 0.0\n",
            "- Normal Response Completeness: 0\n",
            "- Normal Response Relevance: 4\n",
            "- RAG Response Accuracy: 0.0\n",
            "- RAG Response Completeness: 0\n",
            "- RAG Response Relevance: 4\n",
            "--------------------------------------------------\n"
          ]
        }
      ]
    }
  ]
}